{
  "cells": [
    {
      "cell_type": "markdown",
      "id": "4eb922a2",
      "metadata": {
        "papermill": {
          "duration": 0.020134,
          "end_time": "2024-01-19T14:08:35.278068",
          "exception": false,
          "start_time": "2024-01-19T14:08:35.257934",
          "status": "completed"
        },
        "tags": [],
        "id": "4eb922a2"
      },
      "source": [
        "# **Notebook's Author**\n",
        "- **Project:** Sales Prediction\n",
        "- **Author Name:** Hamza Ali\n",
        "\n",
        "\n"
      ]
    },
    {
      "cell_type": "markdown",
      "id": "281837fd",
      "metadata": {
        "papermill": {
          "duration": 0.02082,
          "end_time": "2024-01-19T14:08:35.319036",
          "exception": false,
          "start_time": "2024-01-19T14:08:35.298216",
          "status": "completed"
        },
        "tags": [],
        "id": "281837fd"
      },
      "source": [
        "# `Goal of the Analysis`\n",
        "1. `Exploratory Data Analysis (EDA):`\n",
        "    Gain insights into the data, understanding relationships and distributions that might influence model selection and performance.\n",
        "\n",
        "2. `Data Preparation:`\n",
        "\n",
        "    `Cleaning and Preprocessing:`\n",
        "    Ensure the dataset is free of inconsistencies and missing values to improve model accuracy.\n",
        "\n",
        "    `Feature Engineering:`\n",
        "    Transform or create features to enhance model performance.\n",
        "\n",
        "    `Data Splitting:`\n",
        "    Divide the dataset into training and testing sets for model validation.\n",
        "\n",
        "3. `Model Training:`\n",
        "    Selection of Models: Choose a diverse set of models to compare. This might include linear regression, Random Forest Regression and Gradient Boosting Machines (GBM).\n",
        "\n",
        "\n",
        "4. `Model Evaluation and Comparison:`\n",
        "\n",
        "    `Evaluation Metrics:`\n",
        "    Utilize metrics such as Root Mean Squared Error (RMSE) and Mean Absolute Error (MAE) to assess each model's performance.\n",
        "\n",
        "5. `Predictive Performance:`\n",
        "    Determine which model performs best on the test data based on the chosen evaluation metrics.\n",
        "\n",
        "6.  `Insights and Conclusion:`\n",
        "    Draw conclusions from the model comparisons and provide insights into which models are most effective for predicting heart disease in this specific dataset.\n"
      ]
    },
    {
      "cell_type": "markdown",
      "id": "0f2f8044",
      "metadata": {
        "papermill": {
          "duration": 0.019498,
          "end_time": "2024-01-19T14:08:35.358495",
          "exception": false,
          "start_time": "2024-01-19T14:08:35.338997",
          "status": "completed"
        },
        "tags": [],
        "id": "0f2f8044"
      },
      "source": [
        "# Models to be trained\n",
        "\n",
        "I will be training the following models on the dataset:\n",
        "\n",
        "1. Linear Regression\n",
        "2. Random Forest Regression\n",
        "3. Gradient Boosting Machines (GBM)\n"
      ]
    },
    {
      "cell_type": "markdown",
      "id": "633e7a4d",
      "metadata": {
        "papermill": {
          "duration": 0.018952,
          "end_time": "2024-01-19T14:08:35.396816",
          "exception": false,
          "start_time": "2024-01-19T14:08:35.377864",
          "status": "completed"
        },
        "tags": [],
        "id": "633e7a4d"
      },
      "source": [
        "# Evaluation Metrics:\n",
        "\n",
        "The performance of these models will be assessed using the following metrics:\n",
        "\n",
        "1. Root Mean Squared Error (RMSE)\n",
        "2. Mean Absolute Error (MAE)\n"
      ]
    },
    {
      "cell_type": "markdown",
      "id": "6e978c96",
      "metadata": {
        "papermill": {
          "duration": 0.0188,
          "end_time": "2024-01-19T14:08:35.436027",
          "exception": false,
          "start_time": "2024-01-19T14:08:35.417227",
          "status": "completed"
        },
        "tags": [],
        "id": "6e978c96"
      },
      "source": [
        "# `About the Dataset`"
      ]
    },
    {
      "cell_type": "markdown",
      "id": "14b9f4fb",
      "metadata": {
        "papermill": {
          "duration": 0.021357,
          "end_time": "2024-01-19T14:08:35.560544",
          "exception": false,
          "start_time": "2024-01-19T14:08:35.539187",
          "status": "completed"
        },
        "tags": [],
        "id": "14b9f4fb"
      },
      "source": [
        "The Kaggle Sales Prediction dataset consists of multiple attributes aimed at forecasting the sales of a retail store. Each record in this dataset corresponds to a specific day of operation, with the columns detailing various factors such as customer footfall, promotional activities, holidays, and competition. The target variable is the sales amount for that day, providing a comprehensive view of the elements influencing retail sales performance."
      ]
    },
    {
      "cell_type": "markdown",
      "id": "55b23e6d",
      "metadata": {
        "papermill": {
          "duration": 0.019039,
          "end_time": "2024-01-19T14:08:35.602180",
          "exception": false,
          "start_time": "2024-01-19T14:08:35.583141",
          "status": "completed"
        },
        "tags": [],
        "id": "55b23e6d"
      },
      "source": [
        "### `Attribute Information:`"
      ]
    },
    {
      "cell_type": "markdown",
      "id": "03a9e022",
      "metadata": {
        "papermill": {
          "duration": 0.018879,
          "end_time": "2024-01-19T14:08:35.640338",
          "exception": false,
          "start_time": "2024-01-19T14:08:35.621459",
          "status": "completed"
        },
        "tags": [],
        "id": "03a9e022"
      },
      "source": [
        "1. **Sales**: The sales amount (target variable).\n",
        "\n",
        "2. **Customers**: Number of customers on a given day.\n",
        "\n",
        "3. **Open**: Indicator (1/0) whether the store was open.\n",
        "\n",
        "4. **Promo**: Indicator (1/0) whether a promo was active.\n",
        "\n",
        "5. **StateHoliday**: Indicates a state holiday (0 = no holiday, a = public holiday, b = Easter holiday, c = Christmas).\n",
        "\n",
        "6. **SchoolHoliday**: Indicator (1/0) whether the day was a school holiday.\n",
        "\n",
        "7. **StoreType**: Type of store (a, b, c, d).\n",
        "\n",
        "8. **Assortment**: Level of assortment (a = basic, b = extra, c = extended).\n",
        "\n",
        "9. **CompetitionDistance**: Distance in meters to the nearest competitor store.\n",
        "\n",
        "10. **CompetitionOpenSinceMonth**: Month when the nearest competitor was opened.\n",
        "\n",
        "11. **CompetitionOpenSinceYear**: Year when the nearest competitor was opened.\n",
        "\n",
        "12. **Promo2**: Indicator (1/0) whether the store is participating in a continuous promotion.\n",
        "\n",
        "13. **Promo2SinceWeek**: The week when the store started participating in the continuous promotion.\n",
        "\n",
        "14. **Promo2SinceYear**: The year when the store started participating in the continuous promotion.\n",
        "\n",
        "15. **PromoInterval**: Describes the intervals when the continuous promotion is active.\n",
        "\n",
        "16. **Month**: Month of the entry.\n",
        "\n",
        "17. **Year**: Year of the entry."
      ]
    },
    {
      "cell_type": "markdown",
      "id": "e2193de4",
      "metadata": {
        "papermill": {
          "duration": 0.019586,
          "end_time": "2024-01-19T14:08:35.717515",
          "exception": false,
          "start_time": "2024-01-19T14:08:35.697929",
          "status": "completed"
        },
        "tags": [],
        "id": "e2193de4"
      },
      "source": [
        "# `Importing Libraries`\n"
      ]
    },
    {
      "cell_type": "code",
      "execution_count": 128,
      "id": "62364954",
      "metadata": {
        "execution": {
          "iopub.execute_input": "2024-01-19T14:08:35.758404Z",
          "iopub.status.busy": "2024-01-19T14:08:35.757938Z",
          "iopub.status.idle": "2024-01-19T14:08:39.113491Z",
          "shell.execute_reply": "2024-01-19T14:08:39.111950Z"
        },
        "papermill": {
          "duration": 3.380079,
          "end_time": "2024-01-19T14:08:39.116790",
          "exception": false,
          "start_time": "2024-01-19T14:08:35.736711",
          "status": "completed"
        },
        "tags": [],
        "id": "62364954"
      },
      "outputs": [],
      "source": [
        "import pandas as pd\n",
        "import numpy as np\n",
        "import matplotlib.pyplot as plt\n",
        "import seaborn as sns\n",
        "\n",
        "from sklearn.model_selection import train_test_split\n",
        "from sklearn.linear_model import LinearRegression\n",
        "from sklearn.ensemble import RandomForestRegressor\n",
        "from sklearn.ensemble import GradientBoostingRegressor\n",
        "from sklearn.metrics import mean_squared_error, mean_absolute_error\n",
        "\n",
        "from sklearn.compose import ColumnTransformer\n",
        "from sklearn.pipeline import Pipeline\n",
        "from sklearn.preprocessing import StandardScaler, OneHotEncoder"
      ]
    },
    {
      "cell_type": "markdown",
      "id": "30f5632c",
      "metadata": {
        "papermill": {
          "duration": 0.019462,
          "end_time": "2024-01-19T14:08:39.156980",
          "exception": false,
          "start_time": "2024-01-19T14:08:39.137518",
          "status": "completed"
        },
        "tags": [],
        "id": "30f5632c"
      },
      "source": [
        "# `Read the Data `"
      ]
    },
    {
      "cell_type": "code",
      "execution_count": 50,
      "id": "70540fd7",
      "metadata": {
        "execution": {
          "iopub.execute_input": "2024-01-19T14:08:39.199036Z",
          "iopub.status.busy": "2024-01-19T14:08:39.197837Z",
          "iopub.status.idle": "2024-01-19T14:08:39.226871Z",
          "shell.execute_reply": "2024-01-19T14:08:39.225666Z"
        },
        "papermill": {
          "duration": 0.052927,
          "end_time": "2024-01-19T14:08:39.229705",
          "exception": false,
          "start_time": "2024-01-19T14:08:39.176778",
          "status": "completed"
        },
        "tags": [],
        "id": "70540fd7"
      },
      "outputs": [],
      "source": [
        "dataset = pd.read_csv('dataset.csv')"
      ]
    },
    {
      "cell_type": "markdown",
      "id": "b162fa9e",
      "metadata": {
        "papermill": {
          "duration": 0.019903,
          "end_time": "2024-01-19T14:08:39.269546",
          "exception": false,
          "start_time": "2024-01-19T14:08:39.249643",
          "status": "completed"
        },
        "tags": [],
        "id": "b162fa9e"
      },
      "source": [
        "## `Data Overview`"
      ]
    },
    {
      "cell_type": "markdown",
      "id": "bce59920",
      "metadata": {
        "papermill": {
          "duration": 0.019546,
          "end_time": "2024-01-19T14:08:39.309269",
          "exception": false,
          "start_time": "2024-01-19T14:08:39.289723",
          "status": "completed"
        },
        "tags": [],
        "id": "bce59920"
      },
      "source": [
        "- Inspecting the dimensions of the dataset"
      ]
    },
    {
      "cell_type": "code",
      "execution_count": 51,
      "id": "8b79aa0a",
      "metadata": {
        "execution": {
          "iopub.execute_input": "2024-01-19T14:08:39.351420Z",
          "iopub.status.busy": "2024-01-19T14:08:39.350630Z",
          "iopub.status.idle": "2024-01-19T14:08:39.381489Z",
          "shell.execute_reply": "2024-01-19T14:08:39.380222Z"
        },
        "papermill": {
          "duration": 0.054841,
          "end_time": "2024-01-19T14:08:39.383934",
          "exception": false,
          "start_time": "2024-01-19T14:08:39.329093",
          "status": "completed"
        },
        "tags": [],
        "id": "8b79aa0a",
        "outputId": "e64dba15-2d57-427a-d838-d3930b5a2560",
        "colab": {
          "base_uri": "https://localhost:8080/",
          "height": 226
        }
      },
      "outputs": [
        {
          "output_type": "execute_result",
          "data": {
            "text/plain": [
              "   Sales  Customers  Open  Promo StateHoliday  SchoolHoliday StoreType  \\\n",
              "0   5571        560     1      1            0              1         c   \n",
              "1   6714        612     1      1            0              1         c   \n",
              "2   5371        519     1      1            0              0         c   \n",
              "3   4257        449     1      0            0              0         c   \n",
              "4   4209        447     1      0            0              0         c   \n",
              "\n",
              "  Assortment  CompetitionDistance  CompetitionOpenSinceMonth  \\\n",
              "0          a               1270.0                        9.0   \n",
              "1          a               1270.0                        9.0   \n",
              "2          a               1270.0                        9.0   \n",
              "3          a               1270.0                        9.0   \n",
              "4          a               1270.0                        9.0   \n",
              "\n",
              "   CompetitionOpenSinceYear  Promo2  Promo2SinceWeek  Promo2SinceYear  \\\n",
              "0                    2008.0       0              NaN              NaN   \n",
              "1                    2008.0       0              NaN              NaN   \n",
              "2                    2008.0       0              NaN              NaN   \n",
              "3                    2008.0       0              NaN              NaN   \n",
              "4                    2008.0       0              NaN              NaN   \n",
              "\n",
              "  PromoInterval  month  year  \n",
              "0           NaN      7    15  \n",
              "1           NaN      7    15  \n",
              "2           NaN      7    15  \n",
              "3           NaN      7    15  \n",
              "4           NaN      6    15  "
            ],
            "text/html": [
              "\n",
              "  <div id=\"df-c9e20839-0b09-4e36-853e-1381d216d9ae\" class=\"colab-df-container\">\n",
              "    <div>\n",
              "<style scoped>\n",
              "    .dataframe tbody tr th:only-of-type {\n",
              "        vertical-align: middle;\n",
              "    }\n",
              "\n",
              "    .dataframe tbody tr th {\n",
              "        vertical-align: top;\n",
              "    }\n",
              "\n",
              "    .dataframe thead th {\n",
              "        text-align: right;\n",
              "    }\n",
              "</style>\n",
              "<table border=\"1\" class=\"dataframe\">\n",
              "  <thead>\n",
              "    <tr style=\"text-align: right;\">\n",
              "      <th></th>\n",
              "      <th>Sales</th>\n",
              "      <th>Customers</th>\n",
              "      <th>Open</th>\n",
              "      <th>Promo</th>\n",
              "      <th>StateHoliday</th>\n",
              "      <th>SchoolHoliday</th>\n",
              "      <th>StoreType</th>\n",
              "      <th>Assortment</th>\n",
              "      <th>CompetitionDistance</th>\n",
              "      <th>CompetitionOpenSinceMonth</th>\n",
              "      <th>CompetitionOpenSinceYear</th>\n",
              "      <th>Promo2</th>\n",
              "      <th>Promo2SinceWeek</th>\n",
              "      <th>Promo2SinceYear</th>\n",
              "      <th>PromoInterval</th>\n",
              "      <th>month</th>\n",
              "      <th>year</th>\n",
              "    </tr>\n",
              "  </thead>\n",
              "  <tbody>\n",
              "    <tr>\n",
              "      <th>0</th>\n",
              "      <td>5571</td>\n",
              "      <td>560</td>\n",
              "      <td>1</td>\n",
              "      <td>1</td>\n",
              "      <td>0</td>\n",
              "      <td>1</td>\n",
              "      <td>c</td>\n",
              "      <td>a</td>\n",
              "      <td>1270.0</td>\n",
              "      <td>9.0</td>\n",
              "      <td>2008.0</td>\n",
              "      <td>0</td>\n",
              "      <td>NaN</td>\n",
              "      <td>NaN</td>\n",
              "      <td>NaN</td>\n",
              "      <td>7</td>\n",
              "      <td>15</td>\n",
              "    </tr>\n",
              "    <tr>\n",
              "      <th>1</th>\n",
              "      <td>6714</td>\n",
              "      <td>612</td>\n",
              "      <td>1</td>\n",
              "      <td>1</td>\n",
              "      <td>0</td>\n",
              "      <td>1</td>\n",
              "      <td>c</td>\n",
              "      <td>a</td>\n",
              "      <td>1270.0</td>\n",
              "      <td>9.0</td>\n",
              "      <td>2008.0</td>\n",
              "      <td>0</td>\n",
              "      <td>NaN</td>\n",
              "      <td>NaN</td>\n",
              "      <td>NaN</td>\n",
              "      <td>7</td>\n",
              "      <td>15</td>\n",
              "    </tr>\n",
              "    <tr>\n",
              "      <th>2</th>\n",
              "      <td>5371</td>\n",
              "      <td>519</td>\n",
              "      <td>1</td>\n",
              "      <td>1</td>\n",
              "      <td>0</td>\n",
              "      <td>0</td>\n",
              "      <td>c</td>\n",
              "      <td>a</td>\n",
              "      <td>1270.0</td>\n",
              "      <td>9.0</td>\n",
              "      <td>2008.0</td>\n",
              "      <td>0</td>\n",
              "      <td>NaN</td>\n",
              "      <td>NaN</td>\n",
              "      <td>NaN</td>\n",
              "      <td>7</td>\n",
              "      <td>15</td>\n",
              "    </tr>\n",
              "    <tr>\n",
              "      <th>3</th>\n",
              "      <td>4257</td>\n",
              "      <td>449</td>\n",
              "      <td>1</td>\n",
              "      <td>0</td>\n",
              "      <td>0</td>\n",
              "      <td>0</td>\n",
              "      <td>c</td>\n",
              "      <td>a</td>\n",
              "      <td>1270.0</td>\n",
              "      <td>9.0</td>\n",
              "      <td>2008.0</td>\n",
              "      <td>0</td>\n",
              "      <td>NaN</td>\n",
              "      <td>NaN</td>\n",
              "      <td>NaN</td>\n",
              "      <td>7</td>\n",
              "      <td>15</td>\n",
              "    </tr>\n",
              "    <tr>\n",
              "      <th>4</th>\n",
              "      <td>4209</td>\n",
              "      <td>447</td>\n",
              "      <td>1</td>\n",
              "      <td>0</td>\n",
              "      <td>0</td>\n",
              "      <td>0</td>\n",
              "      <td>c</td>\n",
              "      <td>a</td>\n",
              "      <td>1270.0</td>\n",
              "      <td>9.0</td>\n",
              "      <td>2008.0</td>\n",
              "      <td>0</td>\n",
              "      <td>NaN</td>\n",
              "      <td>NaN</td>\n",
              "      <td>NaN</td>\n",
              "      <td>6</td>\n",
              "      <td>15</td>\n",
              "    </tr>\n",
              "  </tbody>\n",
              "</table>\n",
              "</div>\n",
              "    <div class=\"colab-df-buttons\">\n",
              "\n",
              "  <div class=\"colab-df-container\">\n",
              "    <button class=\"colab-df-convert\" onclick=\"convertToInteractive('df-c9e20839-0b09-4e36-853e-1381d216d9ae')\"\n",
              "            title=\"Convert this dataframe to an interactive table.\"\n",
              "            style=\"display:none;\">\n",
              "\n",
              "  <svg xmlns=\"http://www.w3.org/2000/svg\" height=\"24px\" viewBox=\"0 -960 960 960\">\n",
              "    <path d=\"M120-120v-720h720v720H120Zm60-500h600v-160H180v160Zm220 220h160v-160H400v160Zm0 220h160v-160H400v160ZM180-400h160v-160H180v160Zm440 0h160v-160H620v160ZM180-180h160v-160H180v160Zm440 0h160v-160H620v160Z\"/>\n",
              "  </svg>\n",
              "    </button>\n",
              "\n",
              "  <style>\n",
              "    .colab-df-container {\n",
              "      display:flex;\n",
              "      gap: 12px;\n",
              "    }\n",
              "\n",
              "    .colab-df-convert {\n",
              "      background-color: #E8F0FE;\n",
              "      border: none;\n",
              "      border-radius: 50%;\n",
              "      cursor: pointer;\n",
              "      display: none;\n",
              "      fill: #1967D2;\n",
              "      height: 32px;\n",
              "      padding: 0 0 0 0;\n",
              "      width: 32px;\n",
              "    }\n",
              "\n",
              "    .colab-df-convert:hover {\n",
              "      background-color: #E2EBFA;\n",
              "      box-shadow: 0px 1px 2px rgba(60, 64, 67, 0.3), 0px 1px 3px 1px rgba(60, 64, 67, 0.15);\n",
              "      fill: #174EA6;\n",
              "    }\n",
              "\n",
              "    .colab-df-buttons div {\n",
              "      margin-bottom: 4px;\n",
              "    }\n",
              "\n",
              "    [theme=dark] .colab-df-convert {\n",
              "      background-color: #3B4455;\n",
              "      fill: #D2E3FC;\n",
              "    }\n",
              "\n",
              "    [theme=dark] .colab-df-convert:hover {\n",
              "      background-color: #434B5C;\n",
              "      box-shadow: 0px 1px 3px 1px rgba(0, 0, 0, 0.15);\n",
              "      filter: drop-shadow(0px 1px 2px rgba(0, 0, 0, 0.3));\n",
              "      fill: #FFFFFF;\n",
              "    }\n",
              "  </style>\n",
              "\n",
              "    <script>\n",
              "      const buttonEl =\n",
              "        document.querySelector('#df-c9e20839-0b09-4e36-853e-1381d216d9ae button.colab-df-convert');\n",
              "      buttonEl.style.display =\n",
              "        google.colab.kernel.accessAllowed ? 'block' : 'none';\n",
              "\n",
              "      async function convertToInteractive(key) {\n",
              "        const element = document.querySelector('#df-c9e20839-0b09-4e36-853e-1381d216d9ae');\n",
              "        const dataTable =\n",
              "          await google.colab.kernel.invokeFunction('convertToInteractive',\n",
              "                                                    [key], {});\n",
              "        if (!dataTable) return;\n",
              "\n",
              "        const docLinkHtml = 'Like what you see? Visit the ' +\n",
              "          '<a target=\"_blank\" href=https://colab.research.google.com/notebooks/data_table.ipynb>data table notebook</a>'\n",
              "          + ' to learn more about interactive tables.';\n",
              "        element.innerHTML = '';\n",
              "        dataTable['output_type'] = 'display_data';\n",
              "        await google.colab.output.renderOutput(dataTable, element);\n",
              "        const docLink = document.createElement('div');\n",
              "        docLink.innerHTML = docLinkHtml;\n",
              "        element.appendChild(docLink);\n",
              "      }\n",
              "    </script>\n",
              "  </div>\n",
              "\n",
              "\n",
              "<div id=\"df-5c4ed20c-9b1e-4271-9a58-80149356c7eb\">\n",
              "  <button class=\"colab-df-quickchart\" onclick=\"quickchart('df-5c4ed20c-9b1e-4271-9a58-80149356c7eb')\"\n",
              "            title=\"Suggest charts\"\n",
              "            style=\"display:none;\">\n",
              "\n",
              "<svg xmlns=\"http://www.w3.org/2000/svg\" height=\"24px\"viewBox=\"0 0 24 24\"\n",
              "     width=\"24px\">\n",
              "    <g>\n",
              "        <path d=\"M19 3H5c-1.1 0-2 .9-2 2v14c0 1.1.9 2 2 2h14c1.1 0 2-.9 2-2V5c0-1.1-.9-2-2-2zM9 17H7v-7h2v7zm4 0h-2V7h2v10zm4 0h-2v-4h2v4z\"/>\n",
              "    </g>\n",
              "</svg>\n",
              "  </button>\n",
              "\n",
              "<style>\n",
              "  .colab-df-quickchart {\n",
              "      --bg-color: #E8F0FE;\n",
              "      --fill-color: #1967D2;\n",
              "      --hover-bg-color: #E2EBFA;\n",
              "      --hover-fill-color: #174EA6;\n",
              "      --disabled-fill-color: #AAA;\n",
              "      --disabled-bg-color: #DDD;\n",
              "  }\n",
              "\n",
              "  [theme=dark] .colab-df-quickchart {\n",
              "      --bg-color: #3B4455;\n",
              "      --fill-color: #D2E3FC;\n",
              "      --hover-bg-color: #434B5C;\n",
              "      --hover-fill-color: #FFFFFF;\n",
              "      --disabled-bg-color: #3B4455;\n",
              "      --disabled-fill-color: #666;\n",
              "  }\n",
              "\n",
              "  .colab-df-quickchart {\n",
              "    background-color: var(--bg-color);\n",
              "    border: none;\n",
              "    border-radius: 50%;\n",
              "    cursor: pointer;\n",
              "    display: none;\n",
              "    fill: var(--fill-color);\n",
              "    height: 32px;\n",
              "    padding: 0;\n",
              "    width: 32px;\n",
              "  }\n",
              "\n",
              "  .colab-df-quickchart:hover {\n",
              "    background-color: var(--hover-bg-color);\n",
              "    box-shadow: 0 1px 2px rgba(60, 64, 67, 0.3), 0 1px 3px 1px rgba(60, 64, 67, 0.15);\n",
              "    fill: var(--button-hover-fill-color);\n",
              "  }\n",
              "\n",
              "  .colab-df-quickchart-complete:disabled,\n",
              "  .colab-df-quickchart-complete:disabled:hover {\n",
              "    background-color: var(--disabled-bg-color);\n",
              "    fill: var(--disabled-fill-color);\n",
              "    box-shadow: none;\n",
              "  }\n",
              "\n",
              "  .colab-df-spinner {\n",
              "    border: 2px solid var(--fill-color);\n",
              "    border-color: transparent;\n",
              "    border-bottom-color: var(--fill-color);\n",
              "    animation:\n",
              "      spin 1s steps(1) infinite;\n",
              "  }\n",
              "\n",
              "  @keyframes spin {\n",
              "    0% {\n",
              "      border-color: transparent;\n",
              "      border-bottom-color: var(--fill-color);\n",
              "      border-left-color: var(--fill-color);\n",
              "    }\n",
              "    20% {\n",
              "      border-color: transparent;\n",
              "      border-left-color: var(--fill-color);\n",
              "      border-top-color: var(--fill-color);\n",
              "    }\n",
              "    30% {\n",
              "      border-color: transparent;\n",
              "      border-left-color: var(--fill-color);\n",
              "      border-top-color: var(--fill-color);\n",
              "      border-right-color: var(--fill-color);\n",
              "    }\n",
              "    40% {\n",
              "      border-color: transparent;\n",
              "      border-right-color: var(--fill-color);\n",
              "      border-top-color: var(--fill-color);\n",
              "    }\n",
              "    60% {\n",
              "      border-color: transparent;\n",
              "      border-right-color: var(--fill-color);\n",
              "    }\n",
              "    80% {\n",
              "      border-color: transparent;\n",
              "      border-right-color: var(--fill-color);\n",
              "      border-bottom-color: var(--fill-color);\n",
              "    }\n",
              "    90% {\n",
              "      border-color: transparent;\n",
              "      border-bottom-color: var(--fill-color);\n",
              "    }\n",
              "  }\n",
              "</style>\n",
              "\n",
              "  <script>\n",
              "    async function quickchart(key) {\n",
              "      const quickchartButtonEl =\n",
              "        document.querySelector('#' + key + ' button');\n",
              "      quickchartButtonEl.disabled = true;  // To prevent multiple clicks.\n",
              "      quickchartButtonEl.classList.add('colab-df-spinner');\n",
              "      try {\n",
              "        const charts = await google.colab.kernel.invokeFunction(\n",
              "            'suggestCharts', [key], {});\n",
              "      } catch (error) {\n",
              "        console.error('Error during call to suggestCharts:', error);\n",
              "      }\n",
              "      quickchartButtonEl.classList.remove('colab-df-spinner');\n",
              "      quickchartButtonEl.classList.add('colab-df-quickchart-complete');\n",
              "    }\n",
              "    (() => {\n",
              "      let quickchartButtonEl =\n",
              "        document.querySelector('#df-5c4ed20c-9b1e-4271-9a58-80149356c7eb button');\n",
              "      quickchartButtonEl.style.display =\n",
              "        google.colab.kernel.accessAllowed ? 'block' : 'none';\n",
              "    })();\n",
              "  </script>\n",
              "</div>\n",
              "    </div>\n",
              "  </div>\n"
            ],
            "application/vnd.google.colaboratory.intrinsic+json": {
              "type": "dataframe",
              "variable_name": "dataset"
            }
          },
          "metadata": {},
          "execution_count": 51
        }
      ],
      "source": [
        "dataset.head()"
      ]
    },
    {
      "cell_type": "code",
      "execution_count": 52,
      "id": "2d051ace",
      "metadata": {
        "execution": {
          "iopub.execute_input": "2024-01-19T14:08:39.425865Z",
          "iopub.status.busy": "2024-01-19T14:08:39.425393Z",
          "iopub.status.idle": "2024-01-19T14:08:39.431642Z",
          "shell.execute_reply": "2024-01-19T14:08:39.430641Z"
        },
        "papermill": {
          "duration": 0.029594,
          "end_time": "2024-01-19T14:08:39.433690",
          "exception": false,
          "start_time": "2024-01-19T14:08:39.404096",
          "status": "completed"
        },
        "tags": [],
        "id": "2d051ace",
        "outputId": "d3bca2f5-0f2c-4a8d-d380-6b2e60e376fa",
        "colab": {
          "base_uri": "https://localhost:8080/"
        }
      },
      "outputs": [
        {
          "output_type": "stream",
          "name": "stdout",
          "text": [
            "There are 168607 rows and 17 features (columns) in the dataset.\n"
          ]
        }
      ],
      "source": [
        "print(f\"There are {dataset.shape[0]} rows and {dataset.shape[1]} features (columns) in the dataset.\")"
      ]
    },
    {
      "cell_type": "code",
      "execution_count": 53,
      "id": "6e1ba336",
      "metadata": {
        "execution": {
          "iopub.execute_input": "2024-01-19T14:08:39.528081Z",
          "iopub.status.busy": "2024-01-19T14:08:39.527372Z",
          "iopub.status.idle": "2024-01-19T14:08:39.557561Z",
          "shell.execute_reply": "2024-01-19T14:08:39.556618Z"
        },
        "papermill": {
          "duration": 0.054629,
          "end_time": "2024-01-19T14:08:39.559949",
          "exception": false,
          "start_time": "2024-01-19T14:08:39.505320",
          "status": "completed"
        },
        "tags": [],
        "id": "6e1ba336",
        "outputId": "56cc287f-70c3-4360-a735-5072492e491a",
        "colab": {
          "base_uri": "https://localhost:8080/"
        }
      },
      "outputs": [
        {
          "output_type": "stream",
          "name": "stdout",
          "text": [
            "<class 'pandas.core.frame.DataFrame'>\n",
            "RangeIndex: 168607 entries, 0 to 168606\n",
            "Data columns (total 17 columns):\n",
            " #   Column                     Non-Null Count   Dtype  \n",
            "---  ------                     --------------   -----  \n",
            " 0   Sales                      168607 non-null  int64  \n",
            " 1   Customers                  168607 non-null  int64  \n",
            " 2   Open                       168607 non-null  int64  \n",
            " 3   Promo                      168607 non-null  int64  \n",
            " 4   StateHoliday               168607 non-null  object \n",
            " 5   SchoolHoliday              168607 non-null  int64  \n",
            " 6   StoreType                  168607 non-null  object \n",
            " 7   Assortment                 168607 non-null  object \n",
            " 8   CompetitionDistance        168179 non-null  float64\n",
            " 9   CompetitionOpenSinceMonth  114961 non-null  float64\n",
            " 10  CompetitionOpenSinceYear   114961 non-null  float64\n",
            " 11  Promo2                     168607 non-null  int64  \n",
            " 12  Promo2SinceWeek            83808 non-null   float64\n",
            " 13  Promo2SinceYear            83808 non-null   float64\n",
            " 14  PromoInterval              83808 non-null   object \n",
            " 15  month                      168607 non-null  int64  \n",
            " 16  year                       168607 non-null  int64  \n",
            "dtypes: float64(5), int64(8), object(4)\n",
            "memory usage: 21.9+ MB\n"
          ]
        }
      ],
      "source": [
        "dataset.info()"
      ]
    },
    {
      "cell_type": "markdown",
      "id": "a2019668",
      "metadata": {
        "papermill": {
          "duration": 0.020023,
          "end_time": "2024-01-19T14:08:39.600736",
          "exception": false,
          "start_time": "2024-01-19T14:08:39.580713",
          "status": "completed"
        },
        "tags": [],
        "id": "a2019668"
      },
      "source": [
        "#### Statistical Summary of the Dataset"
      ]
    },
    {
      "cell_type": "code",
      "execution_count": 54,
      "id": "f9f942b5",
      "metadata": {
        "execution": {
          "iopub.execute_input": "2024-01-19T14:08:39.644797Z",
          "iopub.status.busy": "2024-01-19T14:08:39.644330Z",
          "iopub.status.idle": "2024-01-19T14:08:39.680271Z",
          "shell.execute_reply": "2024-01-19T14:08:39.679087Z"
        },
        "papermill": {
          "duration": 0.060769,
          "end_time": "2024-01-19T14:08:39.682717",
          "exception": false,
          "start_time": "2024-01-19T14:08:39.621948",
          "status": "completed"
        },
        "tags": [],
        "id": "f9f942b5",
        "outputId": "bad50f84-eb14-4320-9a28-0cfbc1363206",
        "colab": {
          "base_uri": "https://localhost:8080/",
          "height": 320
        }
      },
      "outputs": [
        {
          "output_type": "execute_result",
          "data": {
            "text/plain": [
              "               Sales      Customers      Open          Promo  SchoolHoliday  \\\n",
              "count  168607.000000  168607.000000  168607.0  168607.000000  168607.000000   \n",
              "mean     7720.344547     763.247244       1.0       0.447081       0.193634   \n",
              "std      3432.319164     401.002459       0.0       0.497193       0.395146   \n",
              "min       326.000000      40.000000       1.0       0.000000       0.000000   \n",
              "25%      5417.000000     520.000000       1.0       0.000000       0.000000   \n",
              "50%      7078.000000     678.000000       1.0       0.000000       0.000000   \n",
              "75%      9235.000000     893.000000       1.0       1.000000       0.000000   \n",
              "max     43559.000000    5192.000000       1.0       1.000000       1.000000   \n",
              "\n",
              "       CompetitionDistance  CompetitionOpenSinceMonth  \\\n",
              "count        168179.000000              114961.000000   \n",
              "mean           5452.959823                   7.233845   \n",
              "std            7822.034528                   3.208495   \n",
              "min              20.000000                   1.000000   \n",
              "25%             710.000000                   4.000000   \n",
              "50%            2320.000000                   8.000000   \n",
              "75%            6880.000000                  10.000000   \n",
              "max           75860.000000                  12.000000   \n",
              "\n",
              "       CompetitionOpenSinceYear         Promo2  Promo2SinceWeek  \\\n",
              "count             114961.000000  168607.000000     83808.000000   \n",
              "mean                2008.710563       0.497061        23.264533   \n",
              "std                    5.965996       0.499993        14.092297   \n",
              "min                 1900.000000       0.000000         1.000000   \n",
              "25%                 2006.000000       0.000000        13.000000   \n",
              "50%                 2010.000000       0.000000        22.000000   \n",
              "75%                 2013.000000       1.000000        37.000000   \n",
              "max                 2015.000000       1.000000        50.000000   \n",
              "\n",
              "       Promo2SinceYear          month           year  \n",
              "count     83808.000000  168607.000000  168607.000000  \n",
              "mean       2011.753377       5.855522      13.830737  \n",
              "std           1.663020       3.327141       0.777344  \n",
              "min        2009.000000       1.000000      13.000000  \n",
              "25%        2011.000000       3.000000      13.000000  \n",
              "50%        2012.000000       6.000000      14.000000  \n",
              "75%        2013.000000       8.000000      14.000000  \n",
              "max        2015.000000      12.000000      15.000000  "
            ],
            "text/html": [
              "\n",
              "  <div id=\"df-a5411780-6f2c-4e8b-9c43-048e021cd882\" class=\"colab-df-container\">\n",
              "    <div>\n",
              "<style scoped>\n",
              "    .dataframe tbody tr th:only-of-type {\n",
              "        vertical-align: middle;\n",
              "    }\n",
              "\n",
              "    .dataframe tbody tr th {\n",
              "        vertical-align: top;\n",
              "    }\n",
              "\n",
              "    .dataframe thead th {\n",
              "        text-align: right;\n",
              "    }\n",
              "</style>\n",
              "<table border=\"1\" class=\"dataframe\">\n",
              "  <thead>\n",
              "    <tr style=\"text-align: right;\">\n",
              "      <th></th>\n",
              "      <th>Sales</th>\n",
              "      <th>Customers</th>\n",
              "      <th>Open</th>\n",
              "      <th>Promo</th>\n",
              "      <th>SchoolHoliday</th>\n",
              "      <th>CompetitionDistance</th>\n",
              "      <th>CompetitionOpenSinceMonth</th>\n",
              "      <th>CompetitionOpenSinceYear</th>\n",
              "      <th>Promo2</th>\n",
              "      <th>Promo2SinceWeek</th>\n",
              "      <th>Promo2SinceYear</th>\n",
              "      <th>month</th>\n",
              "      <th>year</th>\n",
              "    </tr>\n",
              "  </thead>\n",
              "  <tbody>\n",
              "    <tr>\n",
              "      <th>count</th>\n",
              "      <td>168607.000000</td>\n",
              "      <td>168607.000000</td>\n",
              "      <td>168607.0</td>\n",
              "      <td>168607.000000</td>\n",
              "      <td>168607.000000</td>\n",
              "      <td>168179.000000</td>\n",
              "      <td>114961.000000</td>\n",
              "      <td>114961.000000</td>\n",
              "      <td>168607.000000</td>\n",
              "      <td>83808.000000</td>\n",
              "      <td>83808.000000</td>\n",
              "      <td>168607.000000</td>\n",
              "      <td>168607.000000</td>\n",
              "    </tr>\n",
              "    <tr>\n",
              "      <th>mean</th>\n",
              "      <td>7720.344547</td>\n",
              "      <td>763.247244</td>\n",
              "      <td>1.0</td>\n",
              "      <td>0.447081</td>\n",
              "      <td>0.193634</td>\n",
              "      <td>5452.959823</td>\n",
              "      <td>7.233845</td>\n",
              "      <td>2008.710563</td>\n",
              "      <td>0.497061</td>\n",
              "      <td>23.264533</td>\n",
              "      <td>2011.753377</td>\n",
              "      <td>5.855522</td>\n",
              "      <td>13.830737</td>\n",
              "    </tr>\n",
              "    <tr>\n",
              "      <th>std</th>\n",
              "      <td>3432.319164</td>\n",
              "      <td>401.002459</td>\n",
              "      <td>0.0</td>\n",
              "      <td>0.497193</td>\n",
              "      <td>0.395146</td>\n",
              "      <td>7822.034528</td>\n",
              "      <td>3.208495</td>\n",
              "      <td>5.965996</td>\n",
              "      <td>0.499993</td>\n",
              "      <td>14.092297</td>\n",
              "      <td>1.663020</td>\n",
              "      <td>3.327141</td>\n",
              "      <td>0.777344</td>\n",
              "    </tr>\n",
              "    <tr>\n",
              "      <th>min</th>\n",
              "      <td>326.000000</td>\n",
              "      <td>40.000000</td>\n",
              "      <td>1.0</td>\n",
              "      <td>0.000000</td>\n",
              "      <td>0.000000</td>\n",
              "      <td>20.000000</td>\n",
              "      <td>1.000000</td>\n",
              "      <td>1900.000000</td>\n",
              "      <td>0.000000</td>\n",
              "      <td>1.000000</td>\n",
              "      <td>2009.000000</td>\n",
              "      <td>1.000000</td>\n",
              "      <td>13.000000</td>\n",
              "    </tr>\n",
              "    <tr>\n",
              "      <th>25%</th>\n",
              "      <td>5417.000000</td>\n",
              "      <td>520.000000</td>\n",
              "      <td>1.0</td>\n",
              "      <td>0.000000</td>\n",
              "      <td>0.000000</td>\n",
              "      <td>710.000000</td>\n",
              "      <td>4.000000</td>\n",
              "      <td>2006.000000</td>\n",
              "      <td>0.000000</td>\n",
              "      <td>13.000000</td>\n",
              "      <td>2011.000000</td>\n",
              "      <td>3.000000</td>\n",
              "      <td>13.000000</td>\n",
              "    </tr>\n",
              "    <tr>\n",
              "      <th>50%</th>\n",
              "      <td>7078.000000</td>\n",
              "      <td>678.000000</td>\n",
              "      <td>1.0</td>\n",
              "      <td>0.000000</td>\n",
              "      <td>0.000000</td>\n",
              "      <td>2320.000000</td>\n",
              "      <td>8.000000</td>\n",
              "      <td>2010.000000</td>\n",
              "      <td>0.000000</td>\n",
              "      <td>22.000000</td>\n",
              "      <td>2012.000000</td>\n",
              "      <td>6.000000</td>\n",
              "      <td>14.000000</td>\n",
              "    </tr>\n",
              "    <tr>\n",
              "      <th>75%</th>\n",
              "      <td>9235.000000</td>\n",
              "      <td>893.000000</td>\n",
              "      <td>1.0</td>\n",
              "      <td>1.000000</td>\n",
              "      <td>0.000000</td>\n",
              "      <td>6880.000000</td>\n",
              "      <td>10.000000</td>\n",
              "      <td>2013.000000</td>\n",
              "      <td>1.000000</td>\n",
              "      <td>37.000000</td>\n",
              "      <td>2013.000000</td>\n",
              "      <td>8.000000</td>\n",
              "      <td>14.000000</td>\n",
              "    </tr>\n",
              "    <tr>\n",
              "      <th>max</th>\n",
              "      <td>43559.000000</td>\n",
              "      <td>5192.000000</td>\n",
              "      <td>1.0</td>\n",
              "      <td>1.000000</td>\n",
              "      <td>1.000000</td>\n",
              "      <td>75860.000000</td>\n",
              "      <td>12.000000</td>\n",
              "      <td>2015.000000</td>\n",
              "      <td>1.000000</td>\n",
              "      <td>50.000000</td>\n",
              "      <td>2015.000000</td>\n",
              "      <td>12.000000</td>\n",
              "      <td>15.000000</td>\n",
              "    </tr>\n",
              "  </tbody>\n",
              "</table>\n",
              "</div>\n",
              "    <div class=\"colab-df-buttons\">\n",
              "\n",
              "  <div class=\"colab-df-container\">\n",
              "    <button class=\"colab-df-convert\" onclick=\"convertToInteractive('df-a5411780-6f2c-4e8b-9c43-048e021cd882')\"\n",
              "            title=\"Convert this dataframe to an interactive table.\"\n",
              "            style=\"display:none;\">\n",
              "\n",
              "  <svg xmlns=\"http://www.w3.org/2000/svg\" height=\"24px\" viewBox=\"0 -960 960 960\">\n",
              "    <path d=\"M120-120v-720h720v720H120Zm60-500h600v-160H180v160Zm220 220h160v-160H400v160Zm0 220h160v-160H400v160ZM180-400h160v-160H180v160Zm440 0h160v-160H620v160ZM180-180h160v-160H180v160Zm440 0h160v-160H620v160Z\"/>\n",
              "  </svg>\n",
              "    </button>\n",
              "\n",
              "  <style>\n",
              "    .colab-df-container {\n",
              "      display:flex;\n",
              "      gap: 12px;\n",
              "    }\n",
              "\n",
              "    .colab-df-convert {\n",
              "      background-color: #E8F0FE;\n",
              "      border: none;\n",
              "      border-radius: 50%;\n",
              "      cursor: pointer;\n",
              "      display: none;\n",
              "      fill: #1967D2;\n",
              "      height: 32px;\n",
              "      padding: 0 0 0 0;\n",
              "      width: 32px;\n",
              "    }\n",
              "\n",
              "    .colab-df-convert:hover {\n",
              "      background-color: #E2EBFA;\n",
              "      box-shadow: 0px 1px 2px rgba(60, 64, 67, 0.3), 0px 1px 3px 1px rgba(60, 64, 67, 0.15);\n",
              "      fill: #174EA6;\n",
              "    }\n",
              "\n",
              "    .colab-df-buttons div {\n",
              "      margin-bottom: 4px;\n",
              "    }\n",
              "\n",
              "    [theme=dark] .colab-df-convert {\n",
              "      background-color: #3B4455;\n",
              "      fill: #D2E3FC;\n",
              "    }\n",
              "\n",
              "    [theme=dark] .colab-df-convert:hover {\n",
              "      background-color: #434B5C;\n",
              "      box-shadow: 0px 1px 3px 1px rgba(0, 0, 0, 0.15);\n",
              "      filter: drop-shadow(0px 1px 2px rgba(0, 0, 0, 0.3));\n",
              "      fill: #FFFFFF;\n",
              "    }\n",
              "  </style>\n",
              "\n",
              "    <script>\n",
              "      const buttonEl =\n",
              "        document.querySelector('#df-a5411780-6f2c-4e8b-9c43-048e021cd882 button.colab-df-convert');\n",
              "      buttonEl.style.display =\n",
              "        google.colab.kernel.accessAllowed ? 'block' : 'none';\n",
              "\n",
              "      async function convertToInteractive(key) {\n",
              "        const element = document.querySelector('#df-a5411780-6f2c-4e8b-9c43-048e021cd882');\n",
              "        const dataTable =\n",
              "          await google.colab.kernel.invokeFunction('convertToInteractive',\n",
              "                                                    [key], {});\n",
              "        if (!dataTable) return;\n",
              "\n",
              "        const docLinkHtml = 'Like what you see? Visit the ' +\n",
              "          '<a target=\"_blank\" href=https://colab.research.google.com/notebooks/data_table.ipynb>data table notebook</a>'\n",
              "          + ' to learn more about interactive tables.';\n",
              "        element.innerHTML = '';\n",
              "        dataTable['output_type'] = 'display_data';\n",
              "        await google.colab.output.renderOutput(dataTable, element);\n",
              "        const docLink = document.createElement('div');\n",
              "        docLink.innerHTML = docLinkHtml;\n",
              "        element.appendChild(docLink);\n",
              "      }\n",
              "    </script>\n",
              "  </div>\n",
              "\n",
              "\n",
              "<div id=\"df-70bc49d5-cbd5-4ab5-9858-c5008e9c97c8\">\n",
              "  <button class=\"colab-df-quickchart\" onclick=\"quickchart('df-70bc49d5-cbd5-4ab5-9858-c5008e9c97c8')\"\n",
              "            title=\"Suggest charts\"\n",
              "            style=\"display:none;\">\n",
              "\n",
              "<svg xmlns=\"http://www.w3.org/2000/svg\" height=\"24px\"viewBox=\"0 0 24 24\"\n",
              "     width=\"24px\">\n",
              "    <g>\n",
              "        <path d=\"M19 3H5c-1.1 0-2 .9-2 2v14c0 1.1.9 2 2 2h14c1.1 0 2-.9 2-2V5c0-1.1-.9-2-2-2zM9 17H7v-7h2v7zm4 0h-2V7h2v10zm4 0h-2v-4h2v4z\"/>\n",
              "    </g>\n",
              "</svg>\n",
              "  </button>\n",
              "\n",
              "<style>\n",
              "  .colab-df-quickchart {\n",
              "      --bg-color: #E8F0FE;\n",
              "      --fill-color: #1967D2;\n",
              "      --hover-bg-color: #E2EBFA;\n",
              "      --hover-fill-color: #174EA6;\n",
              "      --disabled-fill-color: #AAA;\n",
              "      --disabled-bg-color: #DDD;\n",
              "  }\n",
              "\n",
              "  [theme=dark] .colab-df-quickchart {\n",
              "      --bg-color: #3B4455;\n",
              "      --fill-color: #D2E3FC;\n",
              "      --hover-bg-color: #434B5C;\n",
              "      --hover-fill-color: #FFFFFF;\n",
              "      --disabled-bg-color: #3B4455;\n",
              "      --disabled-fill-color: #666;\n",
              "  }\n",
              "\n",
              "  .colab-df-quickchart {\n",
              "    background-color: var(--bg-color);\n",
              "    border: none;\n",
              "    border-radius: 50%;\n",
              "    cursor: pointer;\n",
              "    display: none;\n",
              "    fill: var(--fill-color);\n",
              "    height: 32px;\n",
              "    padding: 0;\n",
              "    width: 32px;\n",
              "  }\n",
              "\n",
              "  .colab-df-quickchart:hover {\n",
              "    background-color: var(--hover-bg-color);\n",
              "    box-shadow: 0 1px 2px rgba(60, 64, 67, 0.3), 0 1px 3px 1px rgba(60, 64, 67, 0.15);\n",
              "    fill: var(--button-hover-fill-color);\n",
              "  }\n",
              "\n",
              "  .colab-df-quickchart-complete:disabled,\n",
              "  .colab-df-quickchart-complete:disabled:hover {\n",
              "    background-color: var(--disabled-bg-color);\n",
              "    fill: var(--disabled-fill-color);\n",
              "    box-shadow: none;\n",
              "  }\n",
              "\n",
              "  .colab-df-spinner {\n",
              "    border: 2px solid var(--fill-color);\n",
              "    border-color: transparent;\n",
              "    border-bottom-color: var(--fill-color);\n",
              "    animation:\n",
              "      spin 1s steps(1) infinite;\n",
              "  }\n",
              "\n",
              "  @keyframes spin {\n",
              "    0% {\n",
              "      border-color: transparent;\n",
              "      border-bottom-color: var(--fill-color);\n",
              "      border-left-color: var(--fill-color);\n",
              "    }\n",
              "    20% {\n",
              "      border-color: transparent;\n",
              "      border-left-color: var(--fill-color);\n",
              "      border-top-color: var(--fill-color);\n",
              "    }\n",
              "    30% {\n",
              "      border-color: transparent;\n",
              "      border-left-color: var(--fill-color);\n",
              "      border-top-color: var(--fill-color);\n",
              "      border-right-color: var(--fill-color);\n",
              "    }\n",
              "    40% {\n",
              "      border-color: transparent;\n",
              "      border-right-color: var(--fill-color);\n",
              "      border-top-color: var(--fill-color);\n",
              "    }\n",
              "    60% {\n",
              "      border-color: transparent;\n",
              "      border-right-color: var(--fill-color);\n",
              "    }\n",
              "    80% {\n",
              "      border-color: transparent;\n",
              "      border-right-color: var(--fill-color);\n",
              "      border-bottom-color: var(--fill-color);\n",
              "    }\n",
              "    90% {\n",
              "      border-color: transparent;\n",
              "      border-bottom-color: var(--fill-color);\n",
              "    }\n",
              "  }\n",
              "</style>\n",
              "\n",
              "  <script>\n",
              "    async function quickchart(key) {\n",
              "      const quickchartButtonEl =\n",
              "        document.querySelector('#' + key + ' button');\n",
              "      quickchartButtonEl.disabled = true;  // To prevent multiple clicks.\n",
              "      quickchartButtonEl.classList.add('colab-df-spinner');\n",
              "      try {\n",
              "        const charts = await google.colab.kernel.invokeFunction(\n",
              "            'suggestCharts', [key], {});\n",
              "      } catch (error) {\n",
              "        console.error('Error during call to suggestCharts:', error);\n",
              "      }\n",
              "      quickchartButtonEl.classList.remove('colab-df-spinner');\n",
              "      quickchartButtonEl.classList.add('colab-df-quickchart-complete');\n",
              "    }\n",
              "    (() => {\n",
              "      let quickchartButtonEl =\n",
              "        document.querySelector('#df-70bc49d5-cbd5-4ab5-9858-c5008e9c97c8 button');\n",
              "      quickchartButtonEl.style.display =\n",
              "        google.colab.kernel.accessAllowed ? 'block' : 'none';\n",
              "    })();\n",
              "  </script>\n",
              "</div>\n",
              "    </div>\n",
              "  </div>\n"
            ],
            "application/vnd.google.colaboratory.intrinsic+json": {
              "type": "dataframe",
              "summary": "{\n  \"name\": \"dataset\",\n  \"rows\": 8,\n  \"fields\": [\n    {\n      \"column\": \"Sales\",\n      \"properties\": {\n        \"dtype\": \"number\",\n        \"std\": 57365.78651809486,\n        \"min\": 326.0,\n        \"max\": 168607.0,\n        \"num_unique_values\": 8,\n        \"samples\": [\n          7720.344546786314,\n          7078.0,\n          168607.0\n        ],\n        \"semantic_type\": \"\",\n        \"description\": \"\"\n      }\n    },\n    {\n      \"column\": \"Customers\",\n      \"properties\": {\n        \"dtype\": \"number\",\n        \"std\": 59205.75881210863,\n        \"min\": 40.0,\n        \"max\": 168607.0,\n        \"num_unique_values\": 8,\n        \"samples\": [\n          763.2472435901237,\n          678.0,\n          168607.0\n        ],\n        \"semantic_type\": \"\",\n        \"description\": \"\"\n      }\n    },\n    {\n      \"column\": \"Open\",\n      \"properties\": {\n        \"dtype\": \"number\",\n        \"std\": 59611.273483023804,\n        \"min\": 0.0,\n        \"max\": 168607.0,\n        \"num_unique_values\": 3,\n        \"samples\": [\n          168607.0,\n          1.0,\n          0.0\n        ],\n        \"semantic_type\": \"\",\n        \"description\": \"\"\n      }\n    },\n    {\n      \"column\": \"Promo\",\n      \"properties\": {\n        \"dtype\": \"number\",\n        \"std\": 59611.42782090173,\n        \"min\": 0.0,\n        \"max\": 168607.0,\n        \"num_unique_values\": 5,\n        \"samples\": [\n          0.44708108204285707,\n          1.0,\n          0.4971931759988239\n        ],\n        \"semantic_type\": \"\",\n        \"description\": \"\"\n      }\n    },\n    {\n      \"column\": \"SchoolHoliday\",\n      \"properties\": {\n        \"dtype\": \"number\",\n        \"std\": 59611.49628324769,\n        \"min\": 0.0,\n        \"max\": 168607.0,\n        \"num_unique_values\": 5,\n        \"samples\": [\n          0.193633716275125,\n          1.0,\n          0.39514633524701565\n        ],\n        \"semantic_type\": \"\",\n        \"description\": \"\"\n      }\n    },\n    {\n      \"column\": \"CompetitionDistance\",\n      \"properties\": {\n        \"dtype\": \"number\",\n        \"std\": 60066.1978527983,\n        \"min\": 20.0,\n        \"max\": 168179.0,\n        \"num_unique_values\": 8,\n        \"samples\": [\n          5452.95982257,\n          2320.0,\n          168179.0\n        ],\n        \"semantic_type\": \"\",\n        \"description\": \"\"\n      }\n    },\n    {\n      \"column\": \"CompetitionOpenSinceMonth\",\n      \"properties\": {\n        \"dtype\": \"number\",\n        \"std\": 40642.5563140495,\n        \"min\": 1.0,\n        \"max\": 114961.0,\n        \"num_unique_values\": 8,\n        \"samples\": [\n          7.233844521185445,\n          8.0,\n          114961.0\n        ],\n        \"semantic_type\": \"\",\n        \"description\": \"\"\n      }\n    },\n    {\n      \"column\": \"CompetitionOpenSinceYear\",\n      \"properties\": {\n        \"dtype\": \"number\",\n        \"std\": 40046.89655803118,\n        \"min\": 5.965995662278749,\n        \"max\": 114961.0,\n        \"num_unique_values\": 8,\n        \"samples\": [\n          2008.710562712572,\n          2010.0,\n          114961.0\n        ],\n        \"semantic_type\": \"\",\n        \"description\": \"\"\n      }\n    },\n    {\n      \"column\": \"Promo2\",\n      \"properties\": {\n        \"dtype\": \"number\",\n        \"std\": 59611.4251551254,\n        \"min\": 0.0,\n        \"max\": 168607.0,\n        \"num_unique_values\": 5,\n        \"samples\": [\n          0.4970612133541312,\n          1.0,\n          0.49999284617740886\n        ],\n        \"semantic_type\": \"\",\n        \"description\": \"\"\n      }\n    },\n    {\n      \"column\": \"Promo2SinceWeek\",\n      \"properties\": {\n        \"dtype\": \"number\",\n        \"std\": 29622.507148255267,\n        \"min\": 1.0,\n        \"max\": 83808.0,\n        \"num_unique_values\": 8,\n        \"samples\": [\n          23.264533218785797,\n          22.0,\n          83808.0\n        ],\n        \"semantic_type\": \"\",\n        \"description\": \"\"\n      }\n    },\n    {\n      \"column\": \"Promo2SinceYear\",\n      \"properties\": {\n        \"dtype\": \"number\",\n        \"std\": 29029.32755271438,\n        \"min\": 1.6630197428372957,\n        \"max\": 83808.0,\n        \"num_unique_values\": 8,\n        \"samples\": [\n          2011.7533767659413,\n          2012.0,\n          83808.0\n        ],\n        \"semantic_type\": \"\",\n        \"description\": \"\"\n      }\n    },\n    {\n      \"column\": \"month\",\n      \"properties\": {\n        \"dtype\": \"number\",\n        \"std\": 59609.59760030035,\n        \"min\": 1.0,\n        \"max\": 168607.0,\n        \"num_unique_values\": 8,\n        \"samples\": [\n          5.855522012727823,\n          6.0,\n          168607.0\n        ],\n        \"semantic_type\": \"\",\n        \"description\": \"\"\n      }\n    },\n    {\n      \"column\": \"year\",\n      \"properties\": {\n        \"dtype\": \"number\",\n        \"std\": 59607.35385969557,\n        \"min\": 0.7773436428438878,\n        \"max\": 168607.0,\n        \"num_unique_values\": 6,\n        \"samples\": [\n          168607.0,\n          13.830736564911303,\n          15.0\n        ],\n        \"semantic_type\": \"\",\n        \"description\": \"\"\n      }\n    }\n  ]\n}"
            }
          },
          "metadata": {},
          "execution_count": 54
        }
      ],
      "source": [
        "dataset.describe()"
      ]
    },
    {
      "cell_type": "markdown",
      "id": "d1536d32",
      "metadata": {
        "papermill": {
          "duration": 0.02067,
          "end_time": "2024-01-19T14:08:39.724998",
          "exception": false,
          "start_time": "2024-01-19T14:08:39.704328",
          "status": "completed"
        },
        "tags": [],
        "id": "d1536d32"
      },
      "source": [
        "---\n",
        "\n",
        "    Observations:\n",
        "\n",
        "- The dataset consists of 168607 entries.\n",
        "- There are 17 columns in total.\n",
        "- These columns are a mix of numerical (int64 and float64) and categorical (object) data types.\n",
        "- There are missing values in the dataset, as indicated by the non-null values in each column which we will deal later after exploring different columns just to get a better understanding of the dataset.\n",
        "\n",
        "---"
      ]
    },
    {
      "cell_type": "markdown",
      "id": "bccf6785",
      "metadata": {
        "papermill": {
          "duration": 0.020884,
          "end_time": "2024-01-19T14:08:39.766847",
          "exception": false,
          "start_time": "2024-01-19T14:08:39.745963",
          "status": "completed"
        },
        "tags": [],
        "id": "bccf6785"
      },
      "source": [
        "# 1. `Exploring Different Columns:`"
      ]
    },
    {
      "cell_type": "markdown",
      "id": "7c7a0fcd",
      "metadata": {
        "papermill": {
          "duration": 0.020183,
          "end_time": "2024-01-19T14:08:39.807944",
          "exception": false,
          "start_time": "2024-01-19T14:08:39.787761",
          "status": "completed"
        },
        "tags": [],
        "id": "7c7a0fcd"
      },
      "source": [
        "# - Target Column (Sales)"
      ]
    },
    {
      "cell_type": "markdown",
      "id": "4988b9ed",
      "metadata": {
        "papermill": {
          "duration": 0.021652,
          "end_time": "2024-01-19T14:08:39.849899",
          "exception": false,
          "start_time": "2024-01-19T14:08:39.828247",
          "status": "completed"
        },
        "tags": [],
        "id": "4988b9ed"
      },
      "source": [
        "First, let's explore our target variable, Sales, which represents the total sales amount (in monetary units) generated by the retail store on a particular day."
      ]
    },
    {
      "cell_type": "code",
      "execution_count": 55,
      "id": "7e64b564",
      "metadata": {
        "execution": {
          "iopub.execute_input": "2024-01-19T14:08:39.894376Z",
          "iopub.status.busy": "2024-01-19T14:08:39.893160Z",
          "iopub.status.idle": "2024-01-19T14:08:39.901468Z",
          "shell.execute_reply": "2024-01-19T14:08:39.900034Z"
        },
        "papermill": {
          "duration": 0.032659,
          "end_time": "2024-01-19T14:08:39.903691",
          "exception": false,
          "start_time": "2024-01-19T14:08:39.871032",
          "status": "completed"
        },
        "tags": [],
        "id": "7e64b564",
        "outputId": "71ff5bb8-66d0-4a33-c84b-bb5709972568",
        "colab": {
          "base_uri": "https://localhost:8080/"
        }
      },
      "outputs": [
        {
          "output_type": "stream",
          "name": "stdout",
          "text": [
            "Observation: \n",
            "---\n",
            "Minimum sales made per day: 326\n",
            "Maximum sales made per day: 43559\n",
            "So, the sales made per day is between 326 and 43559.\n"
          ]
        }
      ],
      "source": [
        "max_sales= dataset['Sales'].max()\n",
        "min_sales= dataset['Sales'].min()\n",
        "print(\"Observation: \")\n",
        "print(\"---\")\n",
        "print(f'Minimum sales made per day: {min_sales}')\n",
        "print(f\"Maximum sales made per day: {max_sales}\")\n",
        "print(f\"So, the sales made per day is between {min_sales} and {max_sales}.\")"
      ]
    },
    {
      "cell_type": "code",
      "execution_count": 56,
      "id": "74565eea",
      "metadata": {
        "execution": {
          "iopub.execute_input": "2024-01-19T14:08:39.947603Z",
          "iopub.status.busy": "2024-01-19T14:08:39.946782Z",
          "iopub.status.idle": "2024-01-19T14:08:40.282471Z",
          "shell.execute_reply": "2024-01-19T14:08:40.281253Z"
        },
        "papermill": {
          "duration": 0.360556,
          "end_time": "2024-01-19T14:08:40.285113",
          "exception": false,
          "start_time": "2024-01-19T14:08:39.924557",
          "status": "completed"
        },
        "tags": [],
        "id": "74565eea",
        "outputId": "be6f4551-66cb-463c-d275-8793f9b0f42e",
        "colab": {
          "base_uri": "https://localhost:8080/",
          "height": 591
        }
      },
      "outputs": [
        {
          "output_type": "execute_result",
          "data": {
            "text/plain": [
              "Text(0, 0.5, 'Frequency')"
            ]
          },
          "metadata": {},
          "execution_count": 56
        },
        {
          "output_type": "display_data",
          "data": {
            "text/plain": [
              "<Figure size 1000x600 with 1 Axes>"
            ],
            "image/png": "[encoded data removed]"
          },
          "metadata": {}
        }
      ],
      "source": [
        "# Plot\n",
        "sns.set(style=\"whitegrid\")\n",
        "\n",
        "# Create a histogram using seaborn\n",
        "plt.figure(figsize=(10, 6))\n",
        "sns.histplot(dataset['Sales'], bins=100, kde=True, color='blue')\n",
        "plt.title('Distribution of Sales')\n",
        "plt.xlabel('Sales')\n",
        "plt.ylabel('Frequency')"
      ]
    },
    {
      "cell_type": "markdown",
      "id": "1efbe2ba",
      "metadata": {
        "papermill": {
          "duration": 0.021422,
          "end_time": "2024-01-19T14:08:40.372775",
          "exception": false,
          "start_time": "2024-01-19T14:08:40.351353",
          "status": "completed"
        },
        "tags": [],
        "id": "1efbe2ba"
      },
      "source": [
        "# - Customers Column"
      ]
    },
    {
      "cell_type": "markdown",
      "source": [
        "The Customers column in the dataset represents the number of customers that visited the store on a given day."
      ],
      "metadata": {
        "id": "UOssNo_QYYFw"
      },
      "id": "UOssNo_QYYFw"
    },
    {
      "cell_type": "code",
      "execution_count": 57,
      "id": "d4bc53f6",
      "metadata": {
        "execution": {
          "iopub.execute_input": "2024-01-19T14:08:40.417366Z",
          "iopub.status.busy": "2024-01-19T14:08:40.416566Z",
          "iopub.status.idle": "2024-01-19T14:08:40.424068Z",
          "shell.execute_reply": "2024-01-19T14:08:40.422352Z"
        },
        "papermill": {
          "duration": 0.03363,
          "end_time": "2024-01-19T14:08:40.427505",
          "exception": false,
          "start_time": "2024-01-19T14:08:40.393875",
          "status": "completed"
        },
        "tags": [],
        "id": "d4bc53f6",
        "outputId": "f6234fbd-958a-4dc9-9914-0b2df603af28",
        "colab": {
          "base_uri": "https://localhost:8080/"
        }
      },
      "outputs": [
        {
          "output_type": "stream",
          "name": "stdout",
          "text": [
            "Observation: \n",
            "---\n",
            "Minimum number of customers: 40\n",
            "Maximum number of customers: 5192\n",
            "So, the number of customers that visited the store on a single day is between 40 and 5192.\n"
          ]
        }
      ],
      "source": [
        "max_customers = dataset['Customers'].max()\n",
        "min_customers = dataset['Customers'].min()\n",
        "print(\"Observation: \")\n",
        "print(\"---\")\n",
        "print(f'Minimum number of customers: {min_customers}')\n",
        "print(f\"Maximum number of customers: {max_customers}\")\n",
        "print(f\"So, the number of customers that visited the store on a single day is between {min_customers} and {max_customers}.\")"
      ]
    },
    {
      "cell_type": "code",
      "execution_count": 58,
      "id": "42d43c42",
      "metadata": {
        "execution": {
          "iopub.execute_input": "2024-01-19T14:08:40.473696Z",
          "iopub.status.busy": "2024-01-19T14:08:40.473227Z",
          "iopub.status.idle": "2024-01-19T14:08:41.028669Z",
          "shell.execute_reply": "2024-01-19T14:08:41.027707Z"
        },
        "papermill": {
          "duration": 0.5817,
          "end_time": "2024-01-19T14:08:41.031477",
          "exception": false,
          "start_time": "2024-01-19T14:08:40.449777",
          "status": "completed"
        },
        "tags": [],
        "id": "42d43c42",
        "outputId": "b745ed4a-e538-40fd-b172-c7ab0a1b4f30",
        "colab": {
          "base_uri": "https://localhost:8080/",
          "height": 591
        }
      },
      "outputs": [
        {
          "output_type": "execute_result",
          "data": {
            "text/plain": [
              "Text(0, 0.5, 'Frequency')"
            ]
          },
          "metadata": {},
          "execution_count": 58
        },
        {
          "output_type": "display_data",
          "data": {
            "text/plain": [
              "<Figure size 1000x600 with 1 Axes>"
            ],
            "image/png": "[encoded data removed]"
          },
          "metadata": {}
        }
      ],
      "source": [
        "# Plot\n",
        "plt.figure(figsize=(10, 6))\n",
        "sns.histplot(dataset['Customers'], bins=50, kde=True, color='green')\n",
        "plt.title('Distribution of Customers')\n",
        "plt.xlabel('Number of Customers')\n",
        "plt.ylabel('Frequency')"
      ]
    },
    {
      "cell_type": "markdown",
      "id": "6f6ba5cf",
      "metadata": {
        "papermill": {
          "duration": 0.021826,
          "end_time": "2024-01-19T14:08:41.083745",
          "exception": false,
          "start_time": "2024-01-19T14:08:41.061919",
          "status": "completed"
        },
        "tags": [],
        "id": "6f6ba5cf"
      },
      "source": [
        "# - Open Column:"
      ]
    },
    {
      "cell_type": "markdown",
      "source": [
        "The Open column in the dataset is a binary indicator that signifies whether the store was open (1) or closed (0) on a particular day."
      ],
      "metadata": {
        "id": "5Z2Z9aKZbObO"
      },
      "id": "5Z2Z9aKZbObO"
    },
    {
      "cell_type": "code",
      "execution_count": 59,
      "id": "a43b800b",
      "metadata": {
        "execution": {
          "iopub.execute_input": "2024-01-19T14:08:41.130498Z",
          "iopub.status.busy": "2024-01-19T14:08:41.129122Z",
          "iopub.status.idle": "2024-01-19T14:08:41.139230Z",
          "shell.execute_reply": "2024-01-19T14:08:41.138079Z"
        },
        "papermill": {
          "duration": 0.03609,
          "end_time": "2024-01-19T14:08:41.141522",
          "exception": false,
          "start_time": "2024-01-19T14:08:41.105432",
          "status": "completed"
        },
        "tags": [],
        "id": "a43b800b",
        "outputId": "d2e1565d-7382-47a7-923f-6b9bbde3ee6d",
        "colab": {
          "base_uri": "https://localhost:8080/"
        }
      },
      "outputs": [
        {
          "output_type": "execute_result",
          "data": {
            "text/plain": [
              "Open\n",
              "1    168607\n",
              "Name: count, dtype: int64"
            ]
          },
          "metadata": {},
          "execution_count": 59
        }
      ],
      "source": [
        "dataset['Open'].value_counts()"
      ]
    },
    {
      "cell_type": "code",
      "execution_count": 60,
      "id": "9345af30",
      "metadata": {
        "execution": {
          "iopub.execute_input": "2024-01-19T14:08:41.193891Z",
          "iopub.status.busy": "2024-01-19T14:08:41.192993Z",
          "iopub.status.idle": "2024-01-19T14:08:41.424469Z",
          "shell.execute_reply": "2024-01-19T14:08:41.423275Z"
        },
        "papermill": {
          "duration": 0.259165,
          "end_time": "2024-01-19T14:08:41.426936",
          "exception": false,
          "start_time": "2024-01-19T14:08:41.167771",
          "status": "completed"
        },
        "tags": [],
        "id": "9345af30",
        "outputId": "349e9147-4326-465a-c315-bb01f8d9546a",
        "colab": {
          "base_uri": "https://localhost:8080/",
          "height": 514
        }
      },
      "outputs": [
        {
          "output_type": "execute_result",
          "data": {
            "text/plain": [
              "Text(0, 0.5, 'Count')"
            ]
          },
          "metadata": {},
          "execution_count": 60
        },
        {
          "output_type": "display_data",
          "data": {
            "text/plain": [
              "<Figure size 500x500 with 1 Axes>"
            ],
            "image/png": "[encoded data removed]"
          },
          "metadata": {}
        }
      ],
      "source": [
        "# Plot\n",
        "sns.set(style=\"whitegrid\")\n",
        "\n",
        "# Create a bar plot to show the count of open and closed days\n",
        "plt.figure(figsize=(5, 5))\n",
        "sns.countplot(x='Open', data=dataset, palette='viridis')\n",
        "plt.title('Count of Open vs. Closed Days')\n",
        "plt.xlabel('Store Open (1 = Open, 0 = Closed)')\n",
        "plt.ylabel('Count')"
      ]
    },
    {
      "cell_type": "markdown",
      "id": "acd8d335",
      "metadata": {
        "papermill": {
          "duration": 0.022711,
          "end_time": "2024-01-19T14:08:41.472458",
          "exception": false,
          "start_time": "2024-01-19T14:08:41.449747",
          "status": "completed"
        },
        "tags": [],
        "id": "acd8d335"
      },
      "source": [
        "---\n",
        "\n",
        "Important Observation:\n",
        "\n",
        "There is no entry in the dataset for which the store is closed."
      ]
    },
    {
      "cell_type": "markdown",
      "id": "3531058a",
      "metadata": {
        "papermill": {
          "duration": 0.022813,
          "end_time": "2024-01-19T14:08:41.518283",
          "exception": false,
          "start_time": "2024-01-19T14:08:41.495470",
          "status": "completed"
        },
        "tags": [],
        "id": "3531058a"
      },
      "source": [
        "# - Promo Column:"
      ]
    },
    {
      "cell_type": "markdown",
      "source": [
        "The Promo column in the dataset is a binary indicator that signifies whether a promotion was active (1) or not (0) on a particular day."
      ],
      "metadata": {
        "id": "zHTWAMjH-0NE"
      },
      "id": "zHTWAMjH-0NE"
    },
    {
      "cell_type": "code",
      "execution_count": 61,
      "id": "97bd7d3d",
      "metadata": {
        "execution": {
          "iopub.execute_input": "2024-01-19T14:08:41.569063Z",
          "iopub.status.busy": "2024-01-19T14:08:41.567557Z",
          "iopub.status.idle": "2024-01-19T14:08:41.576710Z",
          "shell.execute_reply": "2024-01-19T14:08:41.575157Z"
        },
        "papermill": {
          "duration": 0.036569,
          "end_time": "2024-01-19T14:08:41.579024",
          "exception": false,
          "start_time": "2024-01-19T14:08:41.542455",
          "status": "completed"
        },
        "tags": [],
        "id": "97bd7d3d",
        "outputId": "8f796f16-bc69-4d1b-8409-93b72ca5cad0",
        "colab": {
          "base_uri": "https://localhost:8080/"
        }
      },
      "outputs": [
        {
          "output_type": "execute_result",
          "data": {
            "text/plain": [
              "Promo\n",
              "0    93226\n",
              "1    75381\n",
              "Name: count, dtype: int64"
            ]
          },
          "metadata": {},
          "execution_count": 61
        }
      ],
      "source": [
        "dataset['Promo'].value_counts()"
      ]
    },
    {
      "cell_type": "code",
      "execution_count": 62,
      "id": "8d8a2cbc",
      "metadata": {
        "execution": {
          "iopub.execute_input": "2024-01-19T14:08:41.628174Z",
          "iopub.status.busy": "2024-01-19T14:08:41.627370Z",
          "iopub.status.idle": "2024-01-19T14:08:42.050383Z",
          "shell.execute_reply": "2024-01-19T14:08:42.049231Z"
        },
        "papermill": {
          "duration": 0.450343,
          "end_time": "2024-01-19T14:08:42.053221",
          "exception": false,
          "start_time": "2024-01-19T14:08:41.602878",
          "status": "completed"
        },
        "tags": [],
        "id": "8d8a2cbc",
        "outputId": "812f2746-efe8-441c-f99a-b77aeb2a370a",
        "colab": {
          "base_uri": "https://localhost:8080/",
          "height": 514
        }
      },
      "outputs": [
        {
          "output_type": "execute_result",
          "data": {
            "text/plain": [
              "Text(0, 0.5, 'Count')"
            ]
          },
          "metadata": {},
          "execution_count": 62
        },
        {
          "output_type": "display_data",
          "data": {
            "text/plain": [
              "<Figure size 500x500 with 1 Axes>"
            ],
            "image/png": "[encoded data removed]"
          },
          "metadata": {}
        }
      ],
      "source": [
        "# Plot\n",
        "sns.set(style=\"whitegrid\")\n",
        "\n",
        "# Create a bar plot to show the count of promotion days\n",
        "plt.figure(figsize=(5, 5))\n",
        "sns.countplot(x='Promo', data=dataset, palette='viridis')\n",
        "plt.title('Count of Promotion vs. Non-Promotion Days')\n",
        "plt.xlabel('Promotion Active (1 = Yes, 0 = No)')\n",
        "plt.ylabel('Count')"
      ]
    },
    {
      "cell_type": "markdown",
      "id": "5c469b3f",
      "metadata": {
        "papermill": {
          "duration": 0.023037,
          "end_time": "2024-01-19T14:08:42.145603",
          "exception": false,
          "start_time": "2024-01-19T14:08:42.122566",
          "status": "completed"
        },
        "tags": [],
        "id": "5c469b3f"
      },
      "source": [
        "# - StateHoliday Column:"
      ]
    },
    {
      "cell_type": "markdown",
      "source": [
        "The StateHoliday column in the dataset indicates whether the day is a state holiday and the type of holiday. The values in this column are:\n",
        "\n",
        "- 0: No holiday\n",
        "- a: Public holiday\n",
        "- b: Easter holiday\n",
        "- c: Christmas"
      ],
      "metadata": {
        "id": "5pmwPYGdEYHJ"
      },
      "id": "5pmwPYGdEYHJ"
    },
    {
      "cell_type": "code",
      "execution_count": 63,
      "id": "fdef44a6",
      "metadata": {
        "execution": {
          "iopub.execute_input": "2024-01-19T14:08:42.193897Z",
          "iopub.status.busy": "2024-01-19T14:08:42.193108Z",
          "iopub.status.idle": "2024-01-19T14:08:42.200806Z",
          "shell.execute_reply": "2024-01-19T14:08:42.199682Z"
        },
        "papermill": {
          "duration": 0.034572,
          "end_time": "2024-01-19T14:08:42.203245",
          "exception": false,
          "start_time": "2024-01-19T14:08:42.168673",
          "status": "completed"
        },
        "tags": [],
        "id": "fdef44a6",
        "outputId": "d01f540d-1bdc-4f4d-b401-4b5ce137e488",
        "colab": {
          "base_uri": "https://localhost:8080/"
        }
      },
      "outputs": [
        {
          "output_type": "execute_result",
          "data": {
            "text/plain": [
              "StateHoliday\n",
              "0    168454\n",
              "a       116\n",
              "b        24\n",
              "c        13\n",
              "Name: count, dtype: int64"
            ]
          },
          "metadata": {},
          "execution_count": 63
        }
      ],
      "source": [
        "dataset['StateHoliday'].value_counts()"
      ]
    },
    {
      "cell_type": "code",
      "execution_count": 64,
      "id": "64726ebe",
      "metadata": {
        "execution": {
          "iopub.execute_input": "2024-01-19T14:08:42.251936Z",
          "iopub.status.busy": "2024-01-19T14:08:42.250779Z",
          "iopub.status.idle": "2024-01-19T14:08:42.639452Z",
          "shell.execute_reply": "2024-01-19T14:08:42.638270Z"
        },
        "papermill": {
          "duration": 0.41559,
          "end_time": "2024-01-19T14:08:42.642114",
          "exception": false,
          "start_time": "2024-01-19T14:08:42.226524",
          "status": "completed"
        },
        "tags": [],
        "id": "64726ebe",
        "outputId": "7d46be04-2eb2-435d-da58-187feb3b5c6e",
        "colab": {
          "base_uri": "https://localhost:8080/",
          "height": 514
        }
      },
      "outputs": [
        {
          "output_type": "execute_result",
          "data": {
            "text/plain": [
              "Text(0, 0.5, 'Count')"
            ]
          },
          "metadata": {},
          "execution_count": 64
        },
        {
          "output_type": "display_data",
          "data": {
            "text/plain": [
              "<Figure size 1000x500 with 1 Axes>"
            ],
            "image/png": "[encoded data removed]"
          },
          "metadata": {}
        }
      ],
      "source": [
        "# Plot\n",
        "sns.set(style=\"whitegrid\")\n",
        "\n",
        "# Create a bar plot to show the count of holidays\n",
        "plt.figure(figsize=(10, 5))\n",
        "sns.countplot(x='StateHoliday', data=dataset, palette='viridis')\n",
        "plt.title('Count of Different Types of Holidays')\n",
        "plt.xlabel('Holiday Type')\n",
        "plt.ylabel('Count')"
      ]
    },
    {
      "cell_type": "markdown",
      "id": "9aa09791",
      "metadata": {
        "papermill": {
          "duration": 0.026023,
          "end_time": "2024-01-19T14:08:42.740343",
          "exception": false,
          "start_time": "2024-01-19T14:08:42.714320",
          "status": "completed"
        },
        "tags": [],
        "id": "9aa09791"
      },
      "source": [
        "# - SchoolHoliday Column:"
      ]
    },
    {
      "cell_type": "markdown",
      "source": [
        "The SchoolHoliday column in the dataset is a binary indicator that signifies whether the day is a school holiday (1) or not (0)."
      ],
      "metadata": {
        "id": "wbG7DzbkFC-L"
      },
      "id": "wbG7DzbkFC-L"
    },
    {
      "cell_type": "code",
      "execution_count": 65,
      "id": "4a4eae9d",
      "metadata": {
        "execution": {
          "iopub.execute_input": "2024-01-19T14:08:42.793734Z",
          "iopub.status.busy": "2024-01-19T14:08:42.792559Z",
          "iopub.status.idle": "2024-01-19T14:08:42.801763Z",
          "shell.execute_reply": "2024-01-19T14:08:42.800707Z"
        },
        "papermill": {
          "duration": 0.037228,
          "end_time": "2024-01-19T14:08:42.803775",
          "exception": false,
          "start_time": "2024-01-19T14:08:42.766547",
          "status": "completed"
        },
        "tags": [],
        "id": "4a4eae9d",
        "outputId": "64914737-8281-4bbc-efaa-02ce6ab1584c",
        "colab": {
          "base_uri": "https://localhost:8080/"
        }
      },
      "outputs": [
        {
          "output_type": "execute_result",
          "data": {
            "text/plain": [
              "SchoolHoliday\n",
              "0    135959\n",
              "1     32648\n",
              "Name: count, dtype: int64"
            ]
          },
          "metadata": {},
          "execution_count": 65
        }
      ],
      "source": [
        "dataset['SchoolHoliday'].value_counts()"
      ]
    },
    {
      "cell_type": "code",
      "execution_count": 66,
      "id": "407bb144",
      "metadata": {
        "execution": {
          "iopub.execute_input": "2024-01-19T14:08:42.855108Z",
          "iopub.status.busy": "2024-01-19T14:08:42.853911Z",
          "iopub.status.idle": "2024-01-19T14:08:43.125443Z",
          "shell.execute_reply": "2024-01-19T14:08:43.124121Z"
        },
        "papermill": {
          "duration": 0.300393,
          "end_time": "2024-01-19T14:08:43.128309",
          "exception": false,
          "start_time": "2024-01-19T14:08:42.827916",
          "status": "completed"
        },
        "tags": [],
        "id": "407bb144",
        "outputId": "db6e70ba-74d6-4a78-cdc1-31739f8a96db",
        "colab": {
          "base_uri": "https://localhost:8080/",
          "height": 514
        }
      },
      "outputs": [
        {
          "output_type": "execute_result",
          "data": {
            "text/plain": [
              "Text(0, 0.5, 'Count')"
            ]
          },
          "metadata": {},
          "execution_count": 66
        },
        {
          "output_type": "display_data",
          "data": {
            "text/plain": [
              "<Figure size 800x500 with 1 Axes>"
            ],
            "image/png": "[encoded data removed]"
          },
          "metadata": {}
        }
      ],
      "source": [
        "# Plot\n",
        "sns.set(style=\"whitegrid\")\n",
        "\n",
        "# Create a bar plot to show the count of school holidays\n",
        "plt.figure(figsize=(8, 5))\n",
        "sns.countplot(x='SchoolHoliday', data=dataset, palette='viridis')\n",
        "plt.title('Count of School Holidays vs. Non-School Holidays')\n",
        "plt.xlabel('School Holiday (1 = Yes, 0 = No)')\n",
        "plt.ylabel('Count')"
      ]
    },
    {
      "cell_type": "markdown",
      "id": "94dca7e6",
      "metadata": {
        "papermill": {
          "duration": 0.024073,
          "end_time": "2024-01-19T14:08:43.226700",
          "exception": false,
          "start_time": "2024-01-19T14:08:43.202627",
          "status": "completed"
        },
        "tags": [],
        "id": "94dca7e6"
      },
      "source": [
        "# - StoreType Column:"
      ]
    },
    {
      "cell_type": "markdown",
      "source": [
        "The StoreType column in the dataset indicates the type of store, which can influence sales and customer behavior."
      ],
      "metadata": {
        "id": "_zItRxypFsv5"
      },
      "id": "_zItRxypFsv5"
    },
    {
      "cell_type": "code",
      "execution_count": 67,
      "id": "6471d248",
      "metadata": {
        "execution": {
          "iopub.execute_input": "2024-01-19T14:08:43.276790Z",
          "iopub.status.busy": "2024-01-19T14:08:43.276362Z",
          "iopub.status.idle": "2024-01-19T14:08:43.285608Z",
          "shell.execute_reply": "2024-01-19T14:08:43.284430Z"
        },
        "papermill": {
          "duration": 0.036865,
          "end_time": "2024-01-19T14:08:43.287697",
          "exception": false,
          "start_time": "2024-01-19T14:08:43.250832",
          "status": "completed"
        },
        "tags": [],
        "id": "6471d248",
        "outputId": "c762b482-70b7-4d27-cebc-58ba2c3bda2e",
        "colab": {
          "base_uri": "https://localhost:8080/"
        }
      },
      "outputs": [
        {
          "output_type": "execute_result",
          "data": {
            "text/plain": [
              "StoreType\n",
              "a    91078\n",
              "d    51743\n",
              "c    22696\n",
              "b     3090\n",
              "Name: count, dtype: int64"
            ]
          },
          "metadata": {},
          "execution_count": 67
        }
      ],
      "source": [
        "dataset['StoreType'].value_counts()"
      ]
    },
    {
      "cell_type": "code",
      "execution_count": 68,
      "id": "7af90536",
      "metadata": {
        "execution": {
          "iopub.execute_input": "2024-01-19T14:08:43.339835Z",
          "iopub.status.busy": "2024-01-19T14:08:43.338824Z",
          "iopub.status.idle": "2024-01-19T14:08:43.608334Z",
          "shell.execute_reply": "2024-01-19T14:08:43.607223Z"
        },
        "papermill": {
          "duration": 0.298546,
          "end_time": "2024-01-19T14:08:43.611279",
          "exception": false,
          "start_time": "2024-01-19T14:08:43.312733",
          "status": "completed"
        },
        "tags": [],
        "id": "7af90536",
        "outputId": "1e4f05e3-48ce-4830-9468-101ca0c52f62",
        "colab": {
          "base_uri": "https://localhost:8080/",
          "height": 591
        }
      },
      "outputs": [
        {
          "output_type": "execute_result",
          "data": {
            "text/plain": [
              "Text(0, 0.5, 'Count')"
            ]
          },
          "metadata": {},
          "execution_count": 68
        },
        {
          "output_type": "display_data",
          "data": {
            "text/plain": [
              "<Figure size 1000x600 with 1 Axes>"
            ],
            "image/png": "[encoded data removed]"
          },
          "metadata": {}
        }
      ],
      "source": [
        "# Plot\n",
        "sns.set(style=\"whitegrid\")\n",
        "\n",
        "# Create a bar plot to show the count of each store type\n",
        "plt.figure(figsize=(10, 6))\n",
        "sns.countplot(x='StoreType', data=dataset, palette='viridis')\n",
        "plt.title('Count of Each Store Type')\n",
        "plt.xlabel('Store Type')\n",
        "plt.ylabel('Count')"
      ]
    },
    {
      "cell_type": "markdown",
      "id": "c0ccf24d",
      "metadata": {
        "papermill": {
          "duration": 0.025211,
          "end_time": "2024-01-19T14:08:43.712836",
          "exception": false,
          "start_time": "2024-01-19T14:08:43.687625",
          "status": "completed"
        },
        "tags": [],
        "id": "c0ccf24d"
      },
      "source": [
        "# - Assortment Column:"
      ]
    },
    {
      "cell_type": "markdown",
      "source": [
        "The Assortment column in the dataset indicates the level of assortment offered by the store. Assortment refers to the variety of products available. The different assortment levels are:\n",
        "\n",
        "- a: Basic assortment\n",
        "- b: Extra assortment\n",
        "- c: Extended assortment"
      ],
      "metadata": {
        "id": "nkzdpHFxGUR3"
      },
      "id": "nkzdpHFxGUR3"
    },
    {
      "cell_type": "code",
      "execution_count": 69,
      "id": "5ded1982",
      "metadata": {
        "execution": {
          "iopub.execute_input": "2024-01-19T14:08:43.766478Z",
          "iopub.status.busy": "2024-01-19T14:08:43.765640Z",
          "iopub.status.idle": "2024-01-19T14:08:43.772888Z",
          "shell.execute_reply": "2024-01-19T14:08:43.771775Z"
        },
        "papermill": {
          "duration": 0.037852,
          "end_time": "2024-01-19T14:08:43.775861",
          "exception": false,
          "start_time": "2024-01-19T14:08:43.738009",
          "status": "completed"
        },
        "tags": [],
        "id": "5ded1982",
        "outputId": "ec2a183f-670f-4059-a8a7-a0c0b403bfe5",
        "colab": {
          "base_uri": "https://localhost:8080/"
        }
      },
      "outputs": [
        {
          "output_type": "execute_result",
          "data": {
            "text/plain": [
              "Assortment\n",
              "a    88938\n",
              "c    78097\n",
              "b     1572\n",
              "Name: count, dtype: int64"
            ]
          },
          "metadata": {},
          "execution_count": 69
        }
      ],
      "source": [
        "dataset['Assortment'].value_counts()"
      ]
    },
    {
      "cell_type": "code",
      "execution_count": 70,
      "id": "4617691d",
      "metadata": {
        "execution": {
          "iopub.execute_input": "2024-01-19T14:08:43.829484Z",
          "iopub.status.busy": "2024-01-19T14:08:43.829003Z",
          "iopub.status.idle": "2024-01-19T14:08:44.192344Z",
          "shell.execute_reply": "2024-01-19T14:08:44.191402Z"
        },
        "papermill": {
          "duration": 0.393343,
          "end_time": "2024-01-19T14:08:44.194706",
          "exception": false,
          "start_time": "2024-01-19T14:08:43.801363",
          "status": "completed"
        },
        "tags": [],
        "id": "4617691d",
        "outputId": "200c0f6a-bb96-470a-8402-be3d15320bea",
        "colab": {
          "base_uri": "https://localhost:8080/",
          "height": 591
        }
      },
      "outputs": [
        {
          "output_type": "execute_result",
          "data": {
            "text/plain": [
              "Text(0, 0.5, 'Count')"
            ]
          },
          "metadata": {},
          "execution_count": 70
        },
        {
          "output_type": "display_data",
          "data": {
            "text/plain": [
              "<Figure size 1000x600 with 1 Axes>"
            ],
            "image/png": "[encoded data removed]"
          },
          "metadata": {}
        }
      ],
      "source": [
        "# Plot\n",
        "sns.set(style=\"whitegrid\")\n",
        "\n",
        "# Create a bar plot to show the count of each assortment level\n",
        "plt.figure(figsize=(10, 6))\n",
        "sns.countplot(x='Assortment', data=dataset, palette='viridis')\n",
        "plt.title('Count of Each Assortment Level')\n",
        "plt.xlabel('Assortment Level')\n",
        "plt.ylabel('Count')"
      ]
    },
    {
      "cell_type": "markdown",
      "id": "b7b6adb9",
      "metadata": {
        "papermill": {
          "duration": 0.025541,
          "end_time": "2024-01-19T14:08:44.349125",
          "exception": false,
          "start_time": "2024-01-19T14:08:44.323584",
          "status": "completed"
        },
        "tags": [],
        "id": "b7b6adb9"
      },
      "source": [
        "# - CompetitionDistance Column:"
      ]
    },
    {
      "cell_type": "markdown",
      "source": [
        "The CompetitionDistance column in the dataset represents the distance (in meters) to the nearest competitor store."
      ],
      "metadata": {
        "id": "pBdkbxUfJNIT"
      },
      "id": "pBdkbxUfJNIT"
    },
    {
      "cell_type": "code",
      "execution_count": 71,
      "id": "38dcfbca",
      "metadata": {
        "execution": {
          "iopub.execute_input": "2024-01-19T14:08:44.403640Z",
          "iopub.status.busy": "2024-01-19T14:08:44.403182Z",
          "iopub.status.idle": "2024-01-19T14:08:44.410831Z",
          "shell.execute_reply": "2024-01-19T14:08:44.410000Z"
        },
        "papermill": {
          "duration": 0.037223,
          "end_time": "2024-01-19T14:08:44.413152",
          "exception": false,
          "start_time": "2024-01-19T14:08:44.375929",
          "status": "completed"
        },
        "tags": [],
        "id": "38dcfbca",
        "outputId": "da687252-2d1f-4e5e-d242-7db053221e4e",
        "colab": {
          "base_uri": "https://localhost:8080/"
        }
      },
      "outputs": [
        {
          "output_type": "stream",
          "name": "stdout",
          "text": [
            "Observation: \n",
            "---\n",
            "Minimum distance to the nearest competitor store: 20.0\n",
            "Maximum distance to the nearest competitor store: 75860.0\n",
            "So, the distance to the nearest competitor store is between 20.0 and 75860.0.\n"
          ]
        }
      ],
      "source": [
        "max_distance = dataset['CompetitionDistance'].max()\n",
        "min_distance = dataset['CompetitionDistance'].min()\n",
        "print(\"Observation: \")\n",
        "print(\"---\")\n",
        "print(f'Minimum distance to the nearest competitor store: {min_distance}')\n",
        "print(f\"Maximum distance to the nearest competitor store: {max_distance}\")\n",
        "print(f\"So, the distance to the nearest competitor store is between {min_distance} and {max_distance}.\")"
      ]
    },
    {
      "cell_type": "code",
      "execution_count": 72,
      "id": "907301ac",
      "metadata": {
        "execution": {
          "iopub.execute_input": "2024-01-19T14:08:44.468184Z",
          "iopub.status.busy": "2024-01-19T14:08:44.467763Z",
          "iopub.status.idle": "2024-01-19T14:08:44.721869Z",
          "shell.execute_reply": "2024-01-19T14:08:44.720671Z"
        },
        "papermill": {
          "duration": 0.284829,
          "end_time": "2024-01-19T14:08:44.724494",
          "exception": false,
          "start_time": "2024-01-19T14:08:44.439665",
          "status": "completed"
        },
        "tags": [],
        "id": "907301ac",
        "outputId": "0caa8957-0c56-451e-ec7d-bed77ad50023",
        "colab": {
          "base_uri": "https://localhost:8080/",
          "height": 591
        }
      },
      "outputs": [
        {
          "output_type": "execute_result",
          "data": {
            "text/plain": [
              "Text(0, 0.5, 'Frequency')"
            ]
          },
          "metadata": {},
          "execution_count": 72
        },
        {
          "output_type": "display_data",
          "data": {
            "text/plain": [
              "<Figure size 1000x600 with 1 Axes>"
            ],
            "image/png": "[encoded data removed]"
          },
          "metadata": {}
        }
      ],
      "source": [
        "# Plot\n",
        "sns.set(style=\"whitegrid\")\n",
        "\n",
        "# Create a histogram to show the distribution of competition distances\n",
        "plt.figure(figsize=(10, 6))\n",
        "sns.histplot(dataset['CompetitionDistance'].dropna(), bins=50, color='blue')\n",
        "plt.title('Distribution of Competition Distance')\n",
        "plt.xlabel('Competition Distance (meters)')\n",
        "plt.ylabel('Frequency')"
      ]
    },
    {
      "cell_type": "markdown",
      "id": "8fafc031",
      "metadata": {
        "papermill": {
          "duration": 0.025903,
          "end_time": "2024-01-19T14:08:44.828875",
          "exception": false,
          "start_time": "2024-01-19T14:08:44.802972",
          "status": "completed"
        },
        "tags": [],
        "id": "8fafc031"
      },
      "source": [
        "# - CompetitionOpenSinceMonth Column:"
      ]
    },
    {
      "cell_type": "markdown",
      "source": [
        "The CompetitionOpenSinceMonth column in the dataset indicates the month when the nearest competitor store opened."
      ],
      "metadata": {
        "id": "s_V-y9nsK7ys"
      },
      "id": "s_V-y9nsK7ys"
    },
    {
      "cell_type": "code",
      "execution_count": 73,
      "id": "4f9eb337",
      "metadata": {
        "execution": {
          "iopub.execute_input": "2024-01-19T14:08:44.884071Z",
          "iopub.status.busy": "2024-01-19T14:08:44.883356Z",
          "iopub.status.idle": "2024-01-19T14:08:44.890060Z",
          "shell.execute_reply": "2024-01-19T14:08:44.888931Z"
        },
        "papermill": {
          "duration": 0.036825,
          "end_time": "2024-01-19T14:08:44.892385",
          "exception": false,
          "start_time": "2024-01-19T14:08:44.855560",
          "status": "completed"
        },
        "tags": [],
        "id": "4f9eb337",
        "outputId": "d01e348a-fbcc-4dfe-8c0a-56cd022833dc",
        "colab": {
          "base_uri": "https://localhost:8080/"
        }
      },
      "outputs": [
        {
          "output_type": "execute_result",
          "data": {
            "text/plain": [
              "CompetitionOpenSinceMonth\n",
              "9.0     19334\n",
              "4.0     14174\n",
              "11.0    13938\n",
              "3.0     10439\n",
              "7.0      9918\n",
              "12.0     9610\n",
              "10.0     9073\n",
              "6.0      7482\n",
              "5.0      6507\n",
              "2.0      6282\n",
              "8.0      6086\n",
              "1.0      2118\n",
              "Name: count, dtype: int64"
            ]
          },
          "metadata": {},
          "execution_count": 73
        }
      ],
      "source": [
        "dataset['CompetitionOpenSinceMonth'].value_counts()"
      ]
    },
    {
      "cell_type": "code",
      "execution_count": 74,
      "id": "682f1932",
      "metadata": {
        "execution": {
          "iopub.execute_input": "2024-01-19T14:08:44.948162Z",
          "iopub.status.busy": "2024-01-19T14:08:44.947295Z",
          "iopub.status.idle": "2024-01-19T14:08:45.329442Z",
          "shell.execute_reply": "2024-01-19T14:08:45.328283Z"
        },
        "papermill": {
          "duration": 0.413216,
          "end_time": "2024-01-19T14:08:45.332271",
          "exception": false,
          "start_time": "2024-01-19T14:08:44.919055",
          "status": "completed"
        },
        "tags": [],
        "id": "682f1932",
        "outputId": "c58eb49c-2378-4c32-ce97-19fb2623805f",
        "colab": {
          "base_uri": "https://localhost:8080/",
          "height": 591
        }
      },
      "outputs": [
        {
          "output_type": "execute_result",
          "data": {
            "text/plain": [
              "Text(0, 0.5, 'Count')"
            ]
          },
          "metadata": {},
          "execution_count": 74
        },
        {
          "output_type": "display_data",
          "data": {
            "text/plain": [
              "<Figure size 1000x600 with 1 Axes>"
            ],
            "image/png": "[encoded data removed]"
          },
          "metadata": {}
        }
      ],
      "source": [
        "# plot\n",
        "sns.set(style=\"whitegrid\")\n",
        "\n",
        "# Create a bar plot to show the count of competitor openings by month\n",
        "plt.figure(figsize=(10, 6))\n",
        "sns.countplot(x='CompetitionOpenSinceMonth', data=dataset, palette='viridis')\n",
        "plt.title('Count of Competitor Openings by Month')\n",
        "plt.xlabel('Month')\n",
        "plt.ylabel('Count')"
      ]
    },
    {
      "cell_type": "markdown",
      "id": "227cd26c",
      "metadata": {
        "papermill": {
          "duration": 0.026991,
          "end_time": "2024-01-19T14:08:45.441230",
          "exception": false,
          "start_time": "2024-01-19T14:08:45.414239",
          "status": "completed"
        },
        "tags": [],
        "id": "227cd26c"
      },
      "source": [
        "# - CompetitionOpenSinceYear Column:"
      ]
    },
    {
      "cell_type": "markdown",
      "source": [
        "The CompetitionOpenSinceYear column in the dataset indicates the year when the nearest competitor store opened."
      ],
      "metadata": {
        "id": "LNVRlLvlLym9"
      },
      "id": "LNVRlLvlLym9"
    },
    {
      "cell_type": "code",
      "execution_count": 75,
      "id": "eb3adeae",
      "metadata": {
        "execution": {
          "iopub.execute_input": "2024-01-19T14:08:45.497512Z",
          "iopub.status.busy": "2024-01-19T14:08:45.497048Z",
          "iopub.status.idle": "2024-01-19T14:08:45.506354Z",
          "shell.execute_reply": "2024-01-19T14:08:45.505284Z"
        },
        "papermill": {
          "duration": 0.039789,
          "end_time": "2024-01-19T14:08:45.508404",
          "exception": false,
          "start_time": "2024-01-19T14:08:45.468615",
          "status": "completed"
        },
        "tags": [],
        "id": "eb3adeae",
        "outputId": "0534dca5-8c42-44c2-be3f-b4599e47594e",
        "colab": {
          "base_uri": "https://localhost:8080/"
        }
      },
      "outputs": [
        {
          "output_type": "stream",
          "name": "stdout",
          "text": [
            "Observation: \n",
            "---\n",
            "Most Earliest Year: 1900.0\n",
            "Most Recent Year: 2015.0\n",
            "So, the range of years is between 1900.0 and 2015.0.\n"
          ]
        }
      ],
      "source": [
        "max_year = dataset['CompetitionOpenSinceYear'].max()\n",
        "min_year = dataset['CompetitionOpenSinceYear'].min()\n",
        "print(\"Observation: \")\n",
        "print(\"---\")\n",
        "print(f'Most Earliest Year: {min_year}')\n",
        "print(f\"Most Recent Year: {max_year}\")\n",
        "print(f\"So, the range of years is between {min_year} and {max_year}.\")"
      ]
    },
    {
      "cell_type": "code",
      "source": [
        "# Plot\n",
        "sns.set(style=\"whitegrid\")\n",
        "\n",
        "# Create a histogram to show the distribution of competitor opening years\n",
        "plt.figure(figsize=(10, 6))\n",
        "sns.histplot(dataset['CompetitionOpenSinceYear'].dropna(), bins=20, color='green')\n",
        "plt.title('Distribution of Competition Opening Years')\n",
        "plt.xlabel('Competition Open Since Year')\n",
        "plt.ylabel('Frequency')"
      ],
      "metadata": {
        "colab": {
          "base_uri": "https://localhost:8080/",
          "height": 591
        },
        "id": "_eQ-857fNbrS",
        "outputId": "7a1bc7ec-e0dd-47a0-9c72-c3b78e5ef11a"
      },
      "id": "_eQ-857fNbrS",
      "execution_count": 76,
      "outputs": [
        {
          "output_type": "execute_result",
          "data": {
            "text/plain": [
              "Text(0, 0.5, 'Frequency')"
            ]
          },
          "metadata": {},
          "execution_count": 76
        },
        {
          "output_type": "display_data",
          "data": {
            "text/plain": [
              "<Figure size 1000x600 with 1 Axes>"
            ],
            "image/png": "[encoded data removed]"
          },
          "metadata": {}
        }
      ]
    },
    {
      "cell_type": "markdown",
      "id": "a3d7402f",
      "metadata": {
        "papermill": {
          "duration": 0.027133,
          "end_time": "2024-01-19T14:08:45.618266",
          "exception": false,
          "start_time": "2024-01-19T14:08:45.591133",
          "status": "completed"
        },
        "tags": [],
        "id": "a3d7402f"
      },
      "source": [
        "# - Promo2 Column:"
      ]
    },
    {
      "cell_type": "markdown",
      "source": [
        "The Promo2 column in the dataset is a binary indicator that signifies whether a store is participating in a continuous and extended promotion."
      ],
      "metadata": {
        "id": "7cuwKfIkOET0"
      },
      "id": "7cuwKfIkOET0"
    },
    {
      "cell_type": "code",
      "execution_count": 77,
      "id": "22d2ac48",
      "metadata": {
        "execution": {
          "iopub.execute_input": "2024-01-19T14:08:45.676317Z",
          "iopub.status.busy": "2024-01-19T14:08:45.675542Z",
          "iopub.status.idle": "2024-01-19T14:08:45.685001Z",
          "shell.execute_reply": "2024-01-19T14:08:45.683785Z"
        },
        "papermill": {
          "duration": 0.041697,
          "end_time": "2024-01-19T14:08:45.687391",
          "exception": false,
          "start_time": "2024-01-19T14:08:45.645694",
          "status": "completed"
        },
        "tags": [],
        "id": "22d2ac48",
        "outputId": "65042440-bc38-4c60-903f-9a432de84701",
        "colab": {
          "base_uri": "https://localhost:8080/"
        }
      },
      "outputs": [
        {
          "output_type": "execute_result",
          "data": {
            "text/plain": [
              "Promo2\n",
              "0    84799\n",
              "1    83808\n",
              "Name: count, dtype: int64"
            ]
          },
          "metadata": {},
          "execution_count": 77
        }
      ],
      "source": [
        "dataset['Promo2'].value_counts()"
      ]
    },
    {
      "cell_type": "code",
      "execution_count": 78,
      "id": "65723cf7",
      "metadata": {
        "execution": {
          "iopub.execute_input": "2024-01-19T14:08:45.746119Z",
          "iopub.status.busy": "2024-01-19T14:08:45.745670Z",
          "iopub.status.idle": "2024-01-19T14:08:46.032300Z",
          "shell.execute_reply": "2024-01-19T14:08:46.030986Z"
        },
        "papermill": {
          "duration": 0.319404,
          "end_time": "2024-01-19T14:08:46.034810",
          "exception": false,
          "start_time": "2024-01-19T14:08:45.715406",
          "status": "completed"
        },
        "tags": [],
        "id": "65723cf7",
        "outputId": "efc1ffc5-f509-4b36-94a6-0a82e5b25ace",
        "colab": {
          "base_uri": "https://localhost:8080/",
          "height": 514
        }
      },
      "outputs": [
        {
          "output_type": "execute_result",
          "data": {
            "text/plain": [
              "Text(0, 0.5, 'Count')"
            ]
          },
          "metadata": {},
          "execution_count": 78
        },
        {
          "output_type": "display_data",
          "data": {
            "text/plain": [
              "<Figure size 800x500 with 1 Axes>"
            ],
            "image/png": "[encoded data removed]"
          },
          "metadata": {}
        }
      ],
      "source": [
        "# Plot\n",
        "sns.set(style=\"whitegrid\")\n",
        "\n",
        "# Create a bar plot to show the count of Promo2 active vs. non-active days\n",
        "plt.figure(figsize=(8, 5))\n",
        "sns.countplot(x='Promo2', data=dataset, palette='viridis')\n",
        "plt.title('Count of Promo2 Active vs. Non-Active Days')\n",
        "plt.xlabel('Promo2 Active (1 = Yes, 0 = No)')\n",
        "plt.ylabel('Count')"
      ]
    },
    {
      "cell_type": "markdown",
      "id": "2094fa44",
      "metadata": {
        "papermill": {
          "duration": 0.028124,
          "end_time": "2024-01-19T14:08:46.148166",
          "exception": false,
          "start_time": "2024-01-19T14:08:46.120042",
          "status": "completed"
        },
        "tags": [],
        "id": "2094fa44"
      },
      "source": [
        "# - Promo2SinceWeek Column:"
      ]
    },
    {
      "cell_type": "markdown",
      "source": [
        "The Promo2SinceWeek column in the dataset indicates the calendar week when the store started participating in Promo2 (continuous and extended promotion)."
      ],
      "metadata": {
        "id": "pznRgZgJO9j-"
      },
      "id": "pznRgZgJO9j-"
    },
    {
      "cell_type": "code",
      "execution_count": 79,
      "id": "66d4ac94",
      "metadata": {
        "execution": {
          "iopub.execute_input": "2024-01-19T14:08:46.207259Z",
          "iopub.status.busy": "2024-01-19T14:08:46.206378Z",
          "iopub.status.idle": "2024-01-19T14:08:46.215618Z",
          "shell.execute_reply": "2024-01-19T14:08:46.214517Z"
        },
        "papermill": {
          "duration": 0.041395,
          "end_time": "2024-01-19T14:08:46.217630",
          "exception": false,
          "start_time": "2024-01-19T14:08:46.176235",
          "status": "completed"
        },
        "tags": [],
        "id": "66d4ac94",
        "outputId": "d756ce9b-8c6f-4002-9ca7-7295a39545d1",
        "colab": {
          "base_uri": "https://localhost:8080/"
        }
      },
      "outputs": [
        {
          "output_type": "stream",
          "name": "stdout",
          "text": [
            "Observation: \n",
            "---\n",
            "Most Earliest Week: 1.0\n",
            "Most Recent Week: 50.0\n",
            "So, the range of weeks is between 1.0 and 50.0.\n"
          ]
        }
      ],
      "source": [
        "max_week = dataset['Promo2SinceWeek'].max()\n",
        "min_week = dataset['Promo2SinceWeek'].min()\n",
        "print(\"Observation: \")\n",
        "print(\"---\")\n",
        "print(f'Most Earliest Week: {min_week}')\n",
        "print(f\"Most Recent Week: {max_week}\")\n",
        "print(f\"So, the range of weeks is between {min_week} and {max_week}.\")"
      ]
    },
    {
      "cell_type": "code",
      "execution_count": 80,
      "id": "70bbeeb6",
      "metadata": {
        "execution": {
          "iopub.execute_input": "2024-01-19T14:08:46.275395Z",
          "iopub.status.busy": "2024-01-19T14:08:46.274167Z",
          "iopub.status.idle": "2024-01-19T14:08:46.553977Z",
          "shell.execute_reply": "2024-01-19T14:08:46.552793Z"
        },
        "papermill": {
          "duration": 0.311099,
          "end_time": "2024-01-19T14:08:46.556482",
          "exception": false,
          "start_time": "2024-01-19T14:08:46.245383",
          "status": "completed"
        },
        "tags": [],
        "id": "70bbeeb6",
        "outputId": "9b031e5c-08f3-499a-81c5-cc4271e412a4",
        "colab": {
          "base_uri": "https://localhost:8080/",
          "height": 591
        }
      },
      "outputs": [
        {
          "output_type": "execute_result",
          "data": {
            "text/plain": [
              "Text(0, 0.5, 'Frequency')"
            ]
          },
          "metadata": {},
          "execution_count": 80
        },
        {
          "output_type": "display_data",
          "data": {
            "text/plain": [
              "<Figure size 1000x600 with 1 Axes>"
            ],
            "image/png": "[encoded data removed]"
          },
          "metadata": {}
        }
      ],
      "source": [
        "# Plot\n",
        "sns.set(style=\"whitegrid\")\n",
        "\n",
        "# Create a histogram to show the distribution of Promo2 start weeks\n",
        "plt.figure(figsize=(10, 6))\n",
        "sns.histplot(dataset['Promo2SinceWeek'].dropna(), bins=25, color='purple')\n",
        "plt.title('Distribution of Promo2 Start Weeks')\n",
        "plt.xlabel('Promo2 Start Week')\n",
        "plt.ylabel('Frequency')"
      ]
    },
    {
      "cell_type": "markdown",
      "source": [
        "# - Promo2SinceYear Column:"
      ],
      "metadata": {
        "id": "su1HVJYYahlM"
      },
      "id": "su1HVJYYahlM"
    },
    {
      "cell_type": "markdown",
      "source": [
        "The Promo2SinceYear column in the dataset indicates the year when the store started participating in Promo2 (continuous and extended promotion)."
      ],
      "metadata": {
        "id": "zaK7ujLLa86o"
      },
      "id": "zaK7ujLLa86o"
    },
    {
      "cell_type": "code",
      "source": [
        "max_year = dataset['Promo2SinceYear'].max()\n",
        "min_year = dataset['Promo2SinceYear'].min()\n",
        "print(\"Observation: \")\n",
        "print(\"---\")\n",
        "print(f'Most Earliest Year: {min_year}')\n",
        "print(f\"Most Recent Year: {max_year}\")\n",
        "print(f\"So, the range of years is between {min_year} and {max_year}.\")"
      ],
      "metadata": {
        "colab": {
          "base_uri": "https://localhost:8080/"
        },
        "id": "5xnqP_Owa-UW",
        "outputId": "6fa6bc4e-0e0b-47d6-b159-d625c3faffd8"
      },
      "id": "5xnqP_Owa-UW",
      "execution_count": 81,
      "outputs": [
        {
          "output_type": "stream",
          "name": "stdout",
          "text": [
            "Observation: \n",
            "---\n",
            "Most Earliest Year: 2009.0\n",
            "Most Recent Year: 2015.0\n",
            "So, the range of years is between 2009.0 and 2015.0.\n"
          ]
        }
      ]
    },
    {
      "cell_type": "code",
      "source": [
        "# Plot\n",
        "sns.set(style=\"whitegrid\")\n",
        "\n",
        "# Create a histogram to show the distribution of Promo2 start years\n",
        "plt.figure(figsize=(10, 6))\n",
        "sns.histplot(dataset['Promo2SinceYear'].dropna(), bins=7, color='red')\n",
        "plt.title('Distribution of Promo2 Start Years')\n",
        "plt.xlabel('Promo2 Start Year')\n",
        "plt.ylabel('Frequency')"
      ],
      "metadata": {
        "colab": {
          "base_uri": "https://localhost:8080/",
          "height": 591
        },
        "id": "Wd5ooQY9bm5F",
        "outputId": "7949e16f-c72b-40cd-c8bb-1f3d536a1c8a"
      },
      "id": "Wd5ooQY9bm5F",
      "execution_count": 82,
      "outputs": [
        {
          "output_type": "execute_result",
          "data": {
            "text/plain": [
              "Text(0, 0.5, 'Frequency')"
            ]
          },
          "metadata": {},
          "execution_count": 82
        },
        {
          "output_type": "display_data",
          "data": {
            "text/plain": [
              "<Figure size 1000x600 with 1 Axes>"
            ],
            "image/png": "[encoded data removed]"
          },
          "metadata": {}
        }
      ]
    },
    {
      "cell_type": "markdown",
      "source": [
        "# - PromoInterval Column\n"
      ],
      "metadata": {
        "id": "TfhfnDYRc5o6"
      },
      "id": "TfhfnDYRc5o6"
    },
    {
      "cell_type": "markdown",
      "source": [
        "The PromoInterval column in the dataset indicates the months during which the stores participate in continuous and extended promotions."
      ],
      "metadata": {
        "id": "I6B2aec0c_VI"
      },
      "id": "I6B2aec0c_VI"
    },
    {
      "cell_type": "code",
      "source": [
        "dataset['PromoInterval'].value_counts()"
      ],
      "metadata": {
        "colab": {
          "base_uri": "https://localhost:8080/"
        },
        "id": "XWpMX0qZdHrx",
        "outputId": "6bfbc24b-f4c6-4874-baf6-7fc287b92d21"
      },
      "id": "XWpMX0qZdHrx",
      "execution_count": 83,
      "outputs": [
        {
          "output_type": "execute_result",
          "data": {
            "text/plain": [
              "PromoInterval\n",
              "Jan,Apr,Jul,Oct     48458\n",
              "Feb,May,Aug,Nov     19601\n",
              "Mar,Jun,Sept,Dec    15749\n",
              "Name: count, dtype: int64"
            ]
          },
          "metadata": {},
          "execution_count": 83
        }
      ]
    },
    {
      "cell_type": "code",
      "source": [
        "# Plot\n",
        "sns.set(style=\"whitegrid\")\n",
        "\n",
        "# Create a bar plot to show the count of different promo intervals\n",
        "plt.figure(figsize=(10, 6))\n",
        "sns.countplot(x='PromoInterval', data=dataset, palette='viridis')\n",
        "plt.title('Count of Different Promo Intervals')\n",
        "plt.xlabel('Promo Interval')\n",
        "plt.ylabel('Count')"
      ],
      "metadata": {
        "colab": {
          "base_uri": "https://localhost:8080/",
          "height": 591
        },
        "id": "RDWtPDlUdXjh",
        "outputId": "78ca9fe5-7f6d-4ecf-a597-53b3f8bbf1ba"
      },
      "id": "RDWtPDlUdXjh",
      "execution_count": 84,
      "outputs": [
        {
          "output_type": "execute_result",
          "data": {
            "text/plain": [
              "Text(0, 0.5, 'Count')"
            ]
          },
          "metadata": {},
          "execution_count": 84
        },
        {
          "output_type": "display_data",
          "data": {
            "text/plain": [
              "<Figure size 1000x600 with 1 Axes>"
            ],
            "image/png": "[encoded data removed]"
          },
          "metadata": {}
        }
      ]
    },
    {
      "cell_type": "markdown",
      "source": [
        "# - Month Column"
      ],
      "metadata": {
        "id": "QxjxgSq9dfq8"
      },
      "id": "QxjxgSq9dfq8"
    },
    {
      "cell_type": "markdown",
      "source": [
        "The Month column in the dataset indicates the month of the year when the sales data was recorded."
      ],
      "metadata": {
        "id": "d39691r5dnIM"
      },
      "id": "d39691r5dnIM"
    },
    {
      "cell_type": "code",
      "source": [
        "dataset['month'].value_counts()"
      ],
      "metadata": {
        "colab": {
          "base_uri": "https://localhost:8080/"
        },
        "id": "JsrywQBgd05C",
        "outputId": "444ccb52-ac15-41d5-e8c2-d1b41403b0c6"
      },
      "id": "JsrywQBgd05C",
      "execution_count": 85,
      "outputs": [
        {
          "output_type": "execute_result",
          "data": {
            "text/plain": [
              "month\n",
              "1     17250\n",
              "7     17190\n",
              "3     17055\n",
              "6     16527\n",
              "4     16261\n",
              "2     15974\n",
              "5     15927\n",
              "8     10752\n",
              "9     10607\n",
              "10    10595\n",
              "11    10309\n",
              "12    10160\n",
              "Name: count, dtype: int64"
            ]
          },
          "metadata": {},
          "execution_count": 85
        }
      ]
    },
    {
      "cell_type": "code",
      "source": [
        "# Plot\n",
        "sns.set(style=\"whitegrid\")\n",
        "\n",
        "# Create a bar plot to show the total sales by month\n",
        "plt.figure(figsize=(12, 8))\n",
        "sales_by_month = dataset.groupby('month')['Sales'].sum()\n",
        "sales_by_month.plot(kind='bar', color='skyblue')\n",
        "plt.title('Total Sales by Month')\n",
        "plt.xlabel('Month')\n",
        "plt.ylabel('Total Sales')\n",
        "plt.xticks(rotation=0)"
      ],
      "metadata": {
        "colab": {
          "base_uri": "https://localhost:8080/",
          "height": 959
        },
        "id": "nUGkIOzoeDhR",
        "outputId": "4bb431c6-5ca0-45dd-d360-21928da201ca"
      },
      "id": "nUGkIOzoeDhR",
      "execution_count": 86,
      "outputs": [
        {
          "output_type": "execute_result",
          "data": {
            "text/plain": [
              "(array([ 0,  1,  2,  3,  4,  5,  6,  7,  8,  9, 10, 11]),\n",
              " [Text(0, 0, '1'),\n",
              "  Text(1, 0, '2'),\n",
              "  Text(2, 0, '3'),\n",
              "  Text(3, 0, '4'),\n",
              "  Text(4, 0, '5'),\n",
              "  Text(5, 0, '6'),\n",
              "  Text(6, 0, '7'),\n",
              "  Text(7, 0, '8'),\n",
              "  Text(8, 0, '9'),\n",
              "  Text(9, 0, '10'),\n",
              "  Text(10, 0, '11'),\n",
              "  Text(11, 0, '12')])"
            ]
          },
          "metadata": {},
          "execution_count": 86
        },
        {
          "output_type": "display_data",
          "data": {
            "text/plain": [
              "<Figure size 1200x800 with 1 Axes>"
            ],
            "image/png": "[encoded data removed]"
          },
          "metadata": {}
        }
      ]
    },
    {
      "cell_type": "markdown",
      "source": [
        "# - Year Column"
      ],
      "metadata": {
        "id": "QDja4jkVeu_F"
      },
      "id": "QDja4jkVeu_F"
    },
    {
      "cell_type": "markdown",
      "source": [
        "The Year column in the dataset indicates the year when the sales data was recorded."
      ],
      "metadata": {
        "id": "yuz2GKRpe4nu"
      },
      "id": "yuz2GKRpe4nu"
    },
    {
      "cell_type": "code",
      "source": [
        "dataset['year'].value_counts()"
      ],
      "metadata": {
        "colab": {
          "base_uri": "https://localhost:8080/"
        },
        "id": "1Bc3tSKme6DT",
        "outputId": "8d971e39-3876-4cc4-98f2-4923ccd56b41"
      },
      "id": "1Bc3tSKme6DT",
      "execution_count": 87,
      "outputs": [
        {
          "output_type": "execute_result",
          "data": {
            "text/plain": [
              "year\n",
              "13    67626\n",
              "14    61894\n",
              "15    39087\n",
              "Name: count, dtype: int64"
            ]
          },
          "metadata": {},
          "execution_count": 87
        }
      ]
    },
    {
      "cell_type": "code",
      "source": [
        "# Plot\n",
        "sns.set(style=\"whitegrid\")\n",
        "\n",
        "# Create a bar plot to show the total sales by year\n",
        "plt.figure(figsize=(10, 6))\n",
        "sales_by_year = dataset.groupby('year')['Sales'].sum()\n",
        "sales_by_year.plot(kind='bar', color='skyblue')\n",
        "plt.title('Total Sales by Year')\n",
        "plt.xlabel('Year')\n",
        "plt.ylabel('Total Sales')\n",
        "plt.xticks(rotation=0)"
      ],
      "metadata": {
        "colab": {
          "base_uri": "https://localhost:8080/",
          "height": 591
        },
        "id": "xgJCyy6Fflqi",
        "outputId": "3e9595ad-82d0-4f00-eadb-2b053f7f904c"
      },
      "id": "xgJCyy6Fflqi",
      "execution_count": 88,
      "outputs": [
        {
          "output_type": "execute_result",
          "data": {
            "text/plain": [
              "(array([0, 1, 2]), [Text(0, 0, '13'), Text(1, 0, '14'), Text(2, 0, '15')])"
            ]
          },
          "metadata": {},
          "execution_count": 88
        },
        {
          "output_type": "display_data",
          "data": {
            "text/plain": [
              "<Figure size 1000x600 with 1 Axes>"
            ],
            "image/png": "[encoded data removed]"
          },
          "metadata": {}
        }
      ]
    },
    {
      "cell_type": "markdown",
      "id": "db635862",
      "metadata": {
        "papermill": {
          "duration": 0.028886,
          "end_time": "2024-01-19T14:08:46.731112",
          "exception": false,
          "start_time": "2024-01-19T14:08:46.702226",
          "status": "completed"
        },
        "tags": [],
        "id": "db635862"
      },
      "source": [
        "# 2. `Data Cleaning and Preprocessing`"
      ]
    },
    {
      "cell_type": "markdown",
      "id": "2db6fdcf",
      "metadata": {
        "papermill": {
          "duration": 0.028703,
          "end_time": "2024-01-19T14:08:46.788809",
          "exception": false,
          "start_time": "2024-01-19T14:08:46.760106",
          "status": "completed"
        },
        "tags": [],
        "id": "2db6fdcf"
      },
      "source": [
        "- Dealing with missing values"
      ]
    },
    {
      "cell_type": "code",
      "execution_count": 102,
      "id": "280faec3",
      "metadata": {
        "execution": {
          "iopub.execute_input": "2024-01-19T14:08:46.909876Z",
          "iopub.status.busy": "2024-01-19T14:08:46.909052Z",
          "iopub.status.idle": "2024-01-19T14:08:47.290955Z",
          "shell.execute_reply": "2024-01-19T14:08:47.289742Z"
        },
        "papermill": {
          "duration": 0.417289,
          "end_time": "2024-01-19T14:08:47.293408",
          "exception": false,
          "start_time": "2024-01-19T14:08:46.876119",
          "status": "completed"
        },
        "tags": [],
        "id": "280faec3",
        "outputId": "47abe827-ba71-4288-ea51-13bb09547bd0",
        "colab": {
          "base_uri": "https://localhost:8080/"
        }
      },
      "outputs": [
        {
          "output_type": "stream",
          "name": "stdout",
          "text": [
            "<class 'pandas.core.frame.DataFrame'>\n",
            "Index: 168179 entries, 0 to 168606\n",
            "Data columns (total 17 columns):\n",
            " #   Column                     Non-Null Count   Dtype  \n",
            "---  ------                     --------------   -----  \n",
            " 0   Sales                      168179 non-null  int64  \n",
            " 1   Customers                  168179 non-null  int64  \n",
            " 2   Open                       168179 non-null  int64  \n",
            " 3   Promo                      168179 non-null  int64  \n",
            " 4   StateHoliday               168179 non-null  object \n",
            " 5   SchoolHoliday              168179 non-null  int64  \n",
            " 6   StoreType                  168179 non-null  object \n",
            " 7   Assortment                 168179 non-null  object \n",
            " 8   CompetitionDistance        168179 non-null  float64\n",
            " 9   CompetitionOpenSinceMonth  168179 non-null  float64\n",
            " 10  CompetitionOpenSinceYear   168179 non-null  float64\n",
            " 11  Promo2                     168179 non-null  int64  \n",
            " 12  Promo2SinceWeek            168179 non-null  float64\n",
            " 13  Promo2SinceYear            168179 non-null  float64\n",
            " 14  PromoInterval              168179 non-null  object \n",
            " 15  month                      168179 non-null  int64  \n",
            " 16  year                       168179 non-null  int64  \n",
            "dtypes: float64(5), int64(8), object(4)\n",
            "memory usage: 23.1+ MB\n",
            "None\n"
          ]
        }
      ],
      "source": [
        "dataset.dropna(subset=['CompetitionDistance'], inplace=True)\n",
        "\n",
        "# Calculate the proportion of each month in the non-missing data\n",
        "value_counts = dataset['CompetitionOpenSinceMonth'].value_counts(normalize=True)\n",
        "\n",
        "# Calculate the number of missing values\n",
        "num_missing = dataset['CompetitionOpenSinceMonth'].isna().sum()\n",
        "\n",
        "# Calculate the number of missing values to assign to each category\n",
        "missing_values_to_fill = (value_counts * num_missing).round().astype(int)\n",
        "\n",
        "while missing_values_to_fill.sum() != num_missing:\n",
        "    difference = num_missing - missing_values_to_fill.sum()\n",
        "    for index in missing_values_to_fill.index:\n",
        "        if difference == 0:\n",
        "            break\n",
        "        if difference > 0:\n",
        "            missing_values_to_fill[index] += 1\n",
        "            difference -= 1\n",
        "        else:\n",
        "            if missing_values_to_fill[index] > 0:\n",
        "                missing_values_to_fill[index] -= 1\n",
        "                difference += 1\n",
        "\n",
        "# Create a list of values to fill based on the calculated proportions\n",
        "fill_values = []\n",
        "for index, count in missing_values_to_fill.items():\n",
        "    fill_values.extend([index] * count)\n",
        "\n",
        "# Shuffle the fill values to ensure randomness\n",
        "np.random.shuffle(fill_values)\n",
        "\n",
        "# Assign the fill values to the missing data\n",
        "dataset.loc[dataset['CompetitionOpenSinceMonth'].isna(), 'CompetitionOpenSinceMonth'] = fill_values\n",
        "\n",
        "# Impute missing values with mode for PromoInterval\n",
        "dataset['PromoInterval'].fillna(dataset['PromoInterval'].mode()[0], inplace=True)\n",
        "\n",
        "# Impute missing values with median for Promo2SinceWeek and Promo2SinceYear\n",
        "dataset['Promo2SinceWeek'].fillna(dataset['Promo2SinceWeek'].median(), inplace=True)\n",
        "\n",
        "\n",
        "dataset['Promo2SinceYear'].fillna(dataset['Promo2SinceYear'].median(), inplace=True)\n",
        "\n",
        "dataset['CompetitionOpenSinceYear'].fillna(dataset['CompetitionOpenSinceYear'].median(), inplace=True)\n",
        "\n",
        "# Verify the result\n",
        "print(dataset.info())"
      ]
    },
    {
      "cell_type": "markdown",
      "source": [
        "- Converting Data Types"
      ],
      "metadata": {
        "id": "Vy7bamOxiRF8"
      },
      "id": "Vy7bamOxiRF8"
    },
    {
      "cell_type": "code",
      "source": [
        "# Convert specific columns to int\n",
        "int_columns = [\n",
        "    'CompetitionOpenSinceMonth', 'CompetitionOpenSinceYear',\n",
        "    'Promo2SinceWeek', 'Promo2SinceYear'\n",
        "]\n",
        "\n",
        "# Convert columns to int\n",
        "dataset[int_columns] = dataset[int_columns].astype('int')\n",
        "\n",
        "# List of columns to convert to category\n",
        "category_columns = [\n",
        "    'Open', 'Promo', 'StateHoliday', 'SchoolHoliday',\n",
        "    'StoreType', 'Assortment', 'CompetitionOpenSinceMonth',\n",
        "    'Promo2', 'PromoInterval', 'month'\n",
        "]\n",
        "\n",
        "# Convert columns to category\n",
        "dataset[category_columns] = dataset[category_columns].astype('category')\n",
        "\n",
        "# Convert the 'year' column to string\n",
        "dataset['year'] = dataset['year'].astype(str)\n",
        "\n",
        "# Append '20' to the start of each value\n",
        "dataset['year'] = dataset['year'].apply(lambda x: '20' + x.zfill(2))\n",
        "\n",
        "# Convert the 'year' column back to int\n",
        "dataset['year'] = dataset['year'].astype('int')\n",
        "\n",
        "print(dataset.info())"
      ],
      "metadata": {
        "colab": {
          "base_uri": "https://localhost:8080/"
        },
        "id": "cXlm9KmhiXVX",
        "outputId": "11251284-6b50-458e-e2c6-f1ff2f527c76"
      },
      "id": "cXlm9KmhiXVX",
      "execution_count": 104,
      "outputs": [
        {
          "output_type": "stream",
          "name": "stdout",
          "text": [
            "<class 'pandas.core.frame.DataFrame'>\n",
            "Index: 168179 entries, 0 to 168606\n",
            "Data columns (total 17 columns):\n",
            " #   Column                     Non-Null Count   Dtype   \n",
            "---  ------                     --------------   -----   \n",
            " 0   Sales                      168179 non-null  int64   \n",
            " 1   Customers                  168179 non-null  int64   \n",
            " 2   Open                       168179 non-null  category\n",
            " 3   Promo                      168179 non-null  category\n",
            " 4   StateHoliday               168179 non-null  category\n",
            " 5   SchoolHoliday              168179 non-null  category\n",
            " 6   StoreType                  168179 non-null  category\n",
            " 7   Assortment                 168179 non-null  category\n",
            " 8   CompetitionDistance        168179 non-null  float64 \n",
            " 9   CompetitionOpenSinceMonth  168179 non-null  category\n",
            " 10  CompetitionOpenSinceYear   168179 non-null  int64   \n",
            " 11  Promo2                     168179 non-null  category\n",
            " 12  Promo2SinceWeek            168179 non-null  int64   \n",
            " 13  Promo2SinceYear            168179 non-null  int64   \n",
            " 14  PromoInterval              168179 non-null  category\n",
            " 15  month                      168179 non-null  category\n",
            " 16  year                       168179 non-null  int64   \n",
            "dtypes: category(10), float64(1), int64(6)\n",
            "memory usage: 11.9 MB\n",
            "None\n"
          ]
        }
      ]
    },
    {
      "cell_type": "markdown",
      "source": [
        "- Preprocessing the dataset"
      ],
      "metadata": {
        "id": "-rHbnVznjoQg"
      },
      "id": "-rHbnVznjoQg"
    },
    {
      "cell_type": "code",
      "source": [
        "# Identify numerical and categorical columns\n",
        "numerical_columns = ['Customers', 'CompetitionDistance', 'CompetitionOpenSinceYear', 'Promo2SinceWeek', 'Promo2SinceYear', 'year']\n",
        "categorical_columns = ['Open', 'Promo', 'StateHoliday', 'SchoolHoliday', 'StoreType', 'Assortment', 'CompetitionOpenSinceMonth', 'Promo2', 'PromoInterval', 'month']\n",
        "\n",
        "# Separate the target variable and features\n",
        "X = dataset.drop('Sales', axis=1)\n",
        "y = dataset['Sales']\n",
        "\n",
        "# Create preprocessing pipeline\n",
        "preprocessor = ColumnTransformer(\n",
        "    transformers=[\n",
        "        ('num', StandardScaler(), numerical_columns),\n",
        "        ('cat', OneHotEncoder(handle_unknown='ignore'), categorical_columns)\n",
        "    ])\n",
        "\n",
        "pipeline = Pipeline(steps=[('preprocessor', preprocessor)])\n",
        "\n",
        "X_train, X_test, y_train, y_test = train_test_split(X, y, test_size=0.25, random_state=42)\n",
        "\n",
        "# Fit and transform the training data\n",
        "X_train = pipeline.fit_transform(X_train)\n",
        "X_test = pipeline.transform(X_test)\n",
        "\n",
        "# Verify the result\n",
        "print(X_train.shape)\n",
        "print(X_test.shape)"
      ],
      "metadata": {
        "colab": {
          "base_uri": "https://localhost:8080/"
        },
        "id": "Oylowb0PWKno",
        "outputId": "a8acf137-b792-4efd-8f77-f2ee568c7e8f"
      },
      "id": "Oylowb0PWKno",
      "execution_count": 120,
      "outputs": [
        {
          "output_type": "stream",
          "name": "stdout",
          "text": [
            "(126134, 51)\n",
            "(42045, 51)\n"
          ]
        }
      ]
    },
    {
      "cell_type": "markdown",
      "id": "5965dcc1",
      "metadata": {
        "papermill": {
          "duration": 0.035222,
          "end_time": "2024-01-19T14:08:54.787020",
          "exception": false,
          "start_time": "2024-01-19T14:08:54.751798",
          "status": "completed"
        },
        "tags": [],
        "id": "5965dcc1"
      },
      "source": [
        "# Training the models"
      ]
    },
    {
      "cell_type": "markdown",
      "id": "3f886bce",
      "metadata": {
        "papermill": {
          "duration": 0.034868,
          "end_time": "2024-01-19T14:08:54.857217",
          "exception": false,
          "start_time": "2024-01-19T14:08:54.822349",
          "status": "completed"
        },
        "tags": [],
        "id": "3f886bce"
      },
      "source": [
        "### 1. Linear Regression"
      ]
    },
    {
      "cell_type": "code",
      "execution_count": 123,
      "id": "ca428627",
      "metadata": {
        "execution": {
          "iopub.execute_input": "2024-01-19T14:08:54.933069Z",
          "iopub.status.busy": "2024-01-19T14:08:54.931910Z",
          "iopub.status.idle": "2024-01-19T14:08:54.947721Z",
          "shell.execute_reply": "2024-01-19T14:08:54.946639Z"
        },
        "papermill": {
          "duration": 0.057117,
          "end_time": "2024-01-19T14:08:54.950239",
          "exception": false,
          "start_time": "2024-01-19T14:08:54.893122",
          "status": "completed"
        },
        "tags": [],
        "id": "ca428627"
      },
      "outputs": [],
      "source": [
        "# Train the Linear Regression model\n",
        "model = LinearRegression()\n",
        "model.fit(X_train, y_train)\n",
        "\n",
        "# Predict on the test set\n",
        "y_pred = model.predict(X_test)"
      ]
    },
    {
      "cell_type": "code",
      "execution_count": 124,
      "id": "26e9ee69",
      "metadata": {
        "execution": {
          "iopub.execute_input": "2024-01-19T14:08:55.024158Z",
          "iopub.status.busy": "2024-01-19T14:08:55.023425Z",
          "iopub.status.idle": "2024-01-19T14:08:55.046917Z",
          "shell.execute_reply": "2024-01-19T14:08:55.045717Z"
        },
        "papermill": {
          "duration": 0.063754,
          "end_time": "2024-01-19T14:08:55.049603",
          "exception": false,
          "start_time": "2024-01-19T14:08:54.985849",
          "status": "completed"
        },
        "tags": [],
        "id": "26e9ee69",
        "outputId": "5952ae2b-b8fd-4701-f217-6c9f3941266c",
        "colab": {
          "base_uri": "https://localhost:8080/"
        }
      },
      "outputs": [
        {
          "output_type": "stream",
          "name": "stdout",
          "text": [
            "Root Mean Squared Error (RMSE): 1273.7807477327535\n",
            "Mean Absolute Error (MAE): 923.6936221607801\n"
          ]
        }
      ],
      "source": [
        "# Evaluate the model\n",
        "rmse = np.sqrt(mean_squared_error(y_test, y_pred))\n",
        "mae = mean_absolute_error(y_test, y_pred)\n",
        "\n",
        "# Print the evaluation metrics\n",
        "print(f'Root Mean Squared Error (RMSE): {rmse}')\n",
        "print(f'Mean Absolute Error (MAE): {mae}')"
      ]
    },
    {
      "cell_type": "markdown",
      "id": "0ee5713a",
      "metadata": {
        "papermill": {
          "duration": 0.035666,
          "end_time": "2024-01-19T14:08:55.120769",
          "exception": false,
          "start_time": "2024-01-19T14:08:55.085103",
          "status": "completed"
        },
        "tags": [],
        "id": "0ee5713a"
      },
      "source": [
        "### 2. Random Forest Regression"
      ]
    },
    {
      "cell_type": "code",
      "execution_count": 126,
      "id": "bcbc5142",
      "metadata": {
        "execution": {
          "iopub.execute_input": "2024-01-19T14:08:55.194472Z",
          "iopub.status.busy": "2024-01-19T14:08:55.193969Z",
          "iopub.status.idle": "2024-01-19T14:08:55.452835Z",
          "shell.execute_reply": "2024-01-19T14:08:55.451246Z"
        },
        "papermill": {
          "duration": 0.298897,
          "end_time": "2024-01-19T14:08:55.455464",
          "exception": false,
          "start_time": "2024-01-19T14:08:55.156567",
          "status": "completed"
        },
        "tags": [],
        "id": "bcbc5142",
        "outputId": "43f570a7-5a1a-4fd2-8f6a-be6f7a343099",
        "colab": {
          "base_uri": "https://localhost:8080/"
        }
      },
      "outputs": [
        {
          "output_type": "stream",
          "name": "stdout",
          "text": [
            "Root Mean Squared Error (RMSE): 650.9812293872976\n",
            "Mean Absolute Error (MAE): 442.3189749736977\n"
          ]
        }
      ],
      "source": [
        "# Train the Random Forest Regression model\n",
        "model = RandomForestRegressor(n_estimators=100, random_state=42)\n",
        "model.fit(X_train, y_train)\n",
        "\n",
        "# Predict on the test set\n",
        "y_pred = model.predict(X_test)\n",
        "\n",
        "# Evaluate the model\n",
        "rmse = np.sqrt(mean_squared_error(y_test, y_pred))\n",
        "mae = mean_absolute_error(y_test, y_pred)\n",
        "\n",
        "# Print the evaluation metrics\n",
        "print(f'Root Mean Squared Error (RMSE): {rmse}')\n",
        "print(f'Mean Absolute Error (MAE): {mae}')"
      ]
    },
    {
      "cell_type": "markdown",
      "id": "606265ae",
      "metadata": {
        "papermill": {
          "duration": 0.035773,
          "end_time": "2024-01-19T14:08:55.527124",
          "exception": false,
          "start_time": "2024-01-19T14:08:55.491351",
          "status": "completed"
        },
        "tags": [],
        "id": "606265ae"
      },
      "source": [
        "3. XGBoost"
      ]
    },
    {
      "cell_type": "code",
      "execution_count": 129,
      "id": "3db1697d",
      "metadata": {
        "execution": {
          "iopub.execute_input": "2024-01-19T14:08:55.603251Z",
          "iopub.status.busy": "2024-01-19T14:08:55.602436Z",
          "iopub.status.idle": "2024-01-19T14:08:55.966921Z",
          "shell.execute_reply": "2024-01-19T14:08:55.965721Z"
        },
        "papermill": {
          "duration": 0.407247,
          "end_time": "2024-01-19T14:08:55.970771",
          "exception": false,
          "start_time": "2024-01-19T14:08:55.563524",
          "status": "completed"
        },
        "tags": [],
        "id": "3db1697d",
        "outputId": "35b0f0bb-2d3d-42a9-bed3-cffe3e3ca380",
        "colab": {
          "base_uri": "https://localhost:8080/"
        }
      },
      "outputs": [
        {
          "output_type": "stream",
          "name": "stdout",
          "text": [
            "Root Mean Squared Error (RMSE): 1062.5375342272644\n",
            "Mean Absolute Error (MAE): 779.4775756631084\n"
          ]
        }
      ],
      "source": [
        "# Train the Gradient Boosting Regressor model\n",
        "model = GradientBoostingRegressor(n_estimators=100, random_state=42)\n",
        "model.fit(X_train, y_train)\n",
        "\n",
        "# Predict on the test set\n",
        "y_pred = model.predict(X_test)\n",
        "\n",
        "# Evaluate the model\n",
        "rmse = np.sqrt(mean_squared_error(y_test, y_pred))\n",
        "mae = mean_absolute_error(y_test, y_pred)\n",
        "\n",
        "# Print the evaluation metrics\n",
        "print(f'Root Mean Squared Error (RMSE): {rmse}')\n",
        "print(f'Mean Absolute Error (MAE): {mae}')"
      ]
    },
    {
      "cell_type": "markdown",
      "id": "51dfe4d5",
      "metadata": {
        "papermill": {
          "duration": 0.035838,
          "end_time": "2024-01-19T14:08:56.848630",
          "exception": false,
          "start_time": "2024-01-19T14:08:56.812792",
          "status": "completed"
        },
        "tags": [],
        "id": "51dfe4d5"
      },
      "source": [
        "# Final Summary\n",
        "\n",
        "In this notebook, I have successfully navigated through several critical stages of a data science project using the Kaggle Sales Prediction dataset. My journey included:\n",
        "\n",
        "`Data Exploration and Preprocessing:`\n",
        "\n",
        "I have effectively explored and understood the dataset, the preprocessing steps, including handling missing values and outliers, were methodically approached, ensuring the data quality for model training.\n",
        "\n",
        "`Model Training and Evaluation:`\n",
        "\n",
        "I trained three different models: Linear Regression, Random Forest Regression, and Gradient Boosting Machine (GBM).\n",
        "Each model's performance was evaluated using metrics like RMSE and MAE.\n",
        "\n",
        "`Results:`\n",
        "\n",
        "Random Forest Regression showed better performance as compared to the Linear Regression and Gradient Boosting Machine models, though all models need further tuning for improved accuracy."
      ]
    }
  ],
  "metadata": {
    "kaggle": {
      "accelerator": "none",
      "dataSources": [
        {
          "datasetId": 888463,
          "sourceId": 1508992,
          "sourceType": "datasetVersion"
        }
      ],
      "dockerImageVersionId": 30635,
      "isGpuEnabled": false,
      "isInternetEnabled": true,
      "language": "python",
      "sourceType": "notebook"
    },
    "kernelspec": {
      "display_name": "Python 3",
      "language": "python",
      "name": "python3"
    },
    "language_info": {
      "codemirror_mode": {
        "name": "ipython",
        "version": 3
      },
      "file_extension": ".py",
      "mimetype": "text/x-python",
      "name": "python",
      "nbconvert_exporter": "python",
      "pygments_lexer": "ipython3",
      "version": "3.10.12"
    },
    "papermill": {
      "default_parameters": {},
      "duration": 26.203777,
      "end_time": "2024-01-19T14:08:58.259340",
      "environment_variables": {},
      "exception": null,
      "input_path": "__notebook__.ipynb",
      "output_path": "__notebook__.ipynb",
      "parameters": {},
      "start_time": "2024-01-19T14:08:32.055563",
      "version": "2.4.0"
    },
    "colab": {
      "provenance": []
    }
  },
  "nbformat": 4,
  "nbformat_minor": 5
}